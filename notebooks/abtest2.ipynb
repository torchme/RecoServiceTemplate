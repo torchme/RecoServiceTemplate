{
 "cells": [
  {
   "cell_type": "markdown",
   "metadata": {},
   "source": [
    "## Import"
   ]
  },
  {
   "cell_type": "code",
   "execution_count": 1,
   "metadata": {},
   "outputs": [],
   "source": [
    "# !pip install numpy\n",
    "# !pip install pandas\n",
    "# !pip install -U scikit-learn\n",
    "# !pip install matplotlib\n",
    "# !pip install seaborn\n",
    "# !pip install statsmodels\n",
    "# !pip install tqdm\n",
    "\n",
    "import os\n",
    "import hashlib\n",
    "import collections\n",
    "import datetime\n",
    "from base64 import b64encode\n",
    "\n",
    "import numpy as np\n",
    "import pandas as pd\n",
    "from sklearn.utils import shuffle\n",
    "import scipy\n",
    "import scipy.stats as stats\n",
    "import statsmodels\n",
    "import statsmodels.sandbox.stats.multicomp\n",
    "from statsmodels.stats.weightstats import ztest\n",
    "\n",
    "import matplotlib.pyplot as plt\n",
    "import seaborn as sns\n",
    "\n",
    "from tqdm import tqdm\n"
   ]
  },
  {
   "cell_type": "markdown",
   "metadata": {},
   "source": [
    "## Считаем данные"
   ]
  },
  {
   "cell_type": "code",
   "execution_count": 2,
   "metadata": {},
   "outputs": [],
   "source": [
    "shop_metrics_new = pd.read_csv(\"../data/shop_df_metrics_dec.csv\").drop(columns=\"Unnamed: 0\")\n",
    "shop_metrics_old = pd.read_csv(\"../data/shop_df_metrics_sept.csv\").drop(columns=\"Unnamed: 0\")\n",
    "shop_users_info = pd.read_csv(\"../data/shop_df_users.csv\").drop(columns=\"Unnamed: 0\")"
   ]
  },
  {
   "cell_type": "code",
   "execution_count": 3,
   "metadata": {},
   "outputs": [
    {
     "data": {
      "text/html": [
       "<div>\n",
       "<style scoped>\n",
       "    .dataframe tbody tr th:only-of-type {\n",
       "        vertical-align: middle;\n",
       "    }\n",
       "\n",
       "    .dataframe tbody tr th {\n",
       "        vertical-align: top;\n",
       "    }\n",
       "\n",
       "    .dataframe thead th {\n",
       "        text-align: right;\n",
       "    }\n",
       "</style>\n",
       "<table border=\"1\" class=\"dataframe\">\n",
       "  <thead>\n",
       "    <tr style=\"text-align: right;\">\n",
       "      <th></th>\n",
       "      <th>user_id</th>\n",
       "      <th>group</th>\n",
       "      <th>is_viewed</th>\n",
       "      <th>products_viewed_cnt</th>\n",
       "      <th>price_sum</th>\n",
       "      <th>is_cart_added</th>\n",
       "      <th>is_purchased</th>\n",
       "      <th>cart_added_cnt</th>\n",
       "      <th>purchased_cnt</th>\n",
       "    </tr>\n",
       "  </thead>\n",
       "  <tbody>\n",
       "    <tr>\n",
       "      <th>0</th>\n",
       "      <td>1515915625353230683</td>\n",
       "      <td>A</td>\n",
       "      <td>1</td>\n",
       "      <td>1</td>\n",
       "      <td>339.79</td>\n",
       "      <td>0.0</td>\n",
       "      <td>0.0</td>\n",
       "      <td>0</td>\n",
       "      <td>0</td>\n",
       "    </tr>\n",
       "    <tr>\n",
       "      <th>1</th>\n",
       "      <td>1515915625353234047</td>\n",
       "      <td>A</td>\n",
       "      <td>1</td>\n",
       "      <td>9</td>\n",
       "      <td>861.86</td>\n",
       "      <td>0.0</td>\n",
       "      <td>0.0</td>\n",
       "      <td>0</td>\n",
       "      <td>0</td>\n",
       "    </tr>\n",
       "    <tr>\n",
       "      <th>2</th>\n",
       "      <td>1515915625353236157</td>\n",
       "      <td>A</td>\n",
       "      <td>1</td>\n",
       "      <td>4</td>\n",
       "      <td>179.60</td>\n",
       "      <td>0.0</td>\n",
       "      <td>0.0</td>\n",
       "      <td>0</td>\n",
       "      <td>0</td>\n",
       "    </tr>\n",
       "    <tr>\n",
       "      <th>3</th>\n",
       "      <td>1515915625353294441</td>\n",
       "      <td>B</td>\n",
       "      <td>1</td>\n",
       "      <td>28</td>\n",
       "      <td>4283.04</td>\n",
       "      <td>0.0</td>\n",
       "      <td>0.0</td>\n",
       "      <td>0</td>\n",
       "      <td>0</td>\n",
       "    </tr>\n",
       "    <tr>\n",
       "      <th>4</th>\n",
       "      <td>1515915625353386199</td>\n",
       "      <td>B</td>\n",
       "      <td>1</td>\n",
       "      <td>1</td>\n",
       "      <td>20.98</td>\n",
       "      <td>0.0</td>\n",
       "      <td>0.0</td>\n",
       "      <td>0</td>\n",
       "      <td>0</td>\n",
       "    </tr>\n",
       "  </tbody>\n",
       "</table>\n",
       "</div>"
      ],
      "text/plain": [
       "               user_id group  is_viewed  products_viewed_cnt  price_sum  \\\n",
       "0  1515915625353230683     A          1                    1     339.79   \n",
       "1  1515915625353234047     A          1                    9     861.86   \n",
       "2  1515915625353236157     A          1                    4     179.60   \n",
       "3  1515915625353294441     B          1                   28    4283.04   \n",
       "4  1515915625353386199     B          1                    1      20.98   \n",
       "\n",
       "   is_cart_added  is_purchased  cart_added_cnt  purchased_cnt  \n",
       "0            0.0           0.0               0              0  \n",
       "1            0.0           0.0               0              0  \n",
       "2            0.0           0.0               0              0  \n",
       "3            0.0           0.0               0              0  \n",
       "4            0.0           0.0               0              0  "
      ]
     },
     "execution_count": 3,
     "metadata": {},
     "output_type": "execute_result"
    }
   ],
   "source": [
    "shop_metrics_new.head()\n"
   ]
  },
  {
   "cell_type": "code",
   "execution_count": 4,
   "metadata": {},
   "outputs": [
    {
     "data": {
      "text/html": [
       "<div>\n",
       "<style scoped>\n",
       "    .dataframe tbody tr th:only-of-type {\n",
       "        vertical-align: middle;\n",
       "    }\n",
       "\n",
       "    .dataframe tbody tr th {\n",
       "        vertical-align: top;\n",
       "    }\n",
       "\n",
       "    .dataframe thead th {\n",
       "        text-align: right;\n",
       "    }\n",
       "</style>\n",
       "<table border=\"1\" class=\"dataframe\">\n",
       "  <thead>\n",
       "    <tr style=\"text-align: right;\">\n",
       "      <th></th>\n",
       "      <th>user_id</th>\n",
       "      <th>group</th>\n",
       "      <th>is_viewed</th>\n",
       "      <th>products_viewed_cnt</th>\n",
       "      <th>price_sum</th>\n",
       "      <th>is_cart_added</th>\n",
       "      <th>is_purchased</th>\n",
       "      <th>cart_added_cnt</th>\n",
       "      <th>purchased_cnt</th>\n",
       "    </tr>\n",
       "  </thead>\n",
       "  <tbody>\n",
       "    <tr>\n",
       "      <th>0</th>\n",
       "      <td>1515915625353226922</td>\n",
       "      <td>B</td>\n",
       "      <td>1</td>\n",
       "      <td>1</td>\n",
       "      <td>76.48</td>\n",
       "      <td>0.0</td>\n",
       "      <td>0.0</td>\n",
       "      <td>0</td>\n",
       "      <td>0</td>\n",
       "    </tr>\n",
       "    <tr>\n",
       "      <th>1</th>\n",
       "      <td>1515915625353230067</td>\n",
       "      <td>A</td>\n",
       "      <td>1</td>\n",
       "      <td>1</td>\n",
       "      <td>28.98</td>\n",
       "      <td>0.0</td>\n",
       "      <td>0.0</td>\n",
       "      <td>0</td>\n",
       "      <td>0</td>\n",
       "    </tr>\n",
       "    <tr>\n",
       "      <th>2</th>\n",
       "      <td>1515915625353230683</td>\n",
       "      <td>A</td>\n",
       "      <td>1</td>\n",
       "      <td>10</td>\n",
       "      <td>592.21</td>\n",
       "      <td>0.0</td>\n",
       "      <td>0.0</td>\n",
       "      <td>0</td>\n",
       "      <td>0</td>\n",
       "    </tr>\n",
       "    <tr>\n",
       "      <th>3</th>\n",
       "      <td>1515915625353230922</td>\n",
       "      <td>A</td>\n",
       "      <td>1</td>\n",
       "      <td>1</td>\n",
       "      <td>274.40</td>\n",
       "      <td>0.0</td>\n",
       "      <td>0.0</td>\n",
       "      <td>0</td>\n",
       "      <td>0</td>\n",
       "    </tr>\n",
       "    <tr>\n",
       "      <th>4</th>\n",
       "      <td>1515915625353234047</td>\n",
       "      <td>A</td>\n",
       "      <td>1</td>\n",
       "      <td>14</td>\n",
       "      <td>1857.94</td>\n",
       "      <td>0.0</td>\n",
       "      <td>0.0</td>\n",
       "      <td>0</td>\n",
       "      <td>0</td>\n",
       "    </tr>\n",
       "  </tbody>\n",
       "</table>\n",
       "</div>"
      ],
      "text/plain": [
       "               user_id group  is_viewed  products_viewed_cnt  price_sum  \\\n",
       "0  1515915625353226922     B          1                    1      76.48   \n",
       "1  1515915625353230067     A          1                    1      28.98   \n",
       "2  1515915625353230683     A          1                   10     592.21   \n",
       "3  1515915625353230922     A          1                    1     274.40   \n",
       "4  1515915625353234047     A          1                   14    1857.94   \n",
       "\n",
       "   is_cart_added  is_purchased  cart_added_cnt  purchased_cnt  \n",
       "0            0.0           0.0               0              0  \n",
       "1            0.0           0.0               0              0  \n",
       "2            0.0           0.0               0              0  \n",
       "3            0.0           0.0               0              0  \n",
       "4            0.0           0.0               0              0  "
      ]
     },
     "execution_count": 4,
     "metadata": {},
     "output_type": "execute_result"
    }
   ],
   "source": [
    "shop_metrics_old.head()\n"
   ]
  },
  {
   "cell_type": "code",
   "execution_count": 5,
   "metadata": {},
   "outputs": [
    {
     "data": {
      "text/html": [
       "<div>\n",
       "<style scoped>\n",
       "    .dataframe tbody tr th:only-of-type {\n",
       "        vertical-align: middle;\n",
       "    }\n",
       "\n",
       "    .dataframe tbody tr th {\n",
       "        vertical-align: top;\n",
       "    }\n",
       "\n",
       "    .dataframe thead th {\n",
       "        text-align: right;\n",
       "    }\n",
       "</style>\n",
       "<table border=\"1\" class=\"dataframe\">\n",
       "  <thead>\n",
       "    <tr style=\"text-align: right;\">\n",
       "      <th></th>\n",
       "      <th>user_id</th>\n",
       "      <th>user_age</th>\n",
       "      <th>user_sex</th>\n",
       "    </tr>\n",
       "  </thead>\n",
       "  <tbody>\n",
       "    <tr>\n",
       "      <th>0</th>\n",
       "      <td>1515915625519388267</td>\n",
       "      <td>41</td>\n",
       "      <td>f</td>\n",
       "    </tr>\n",
       "    <tr>\n",
       "      <th>1</th>\n",
       "      <td>1515915625519380411</td>\n",
       "      <td>84</td>\n",
       "      <td>m</td>\n",
       "    </tr>\n",
       "    <tr>\n",
       "      <th>2</th>\n",
       "      <td>1515915625513238515</td>\n",
       "      <td>41</td>\n",
       "      <td>m</td>\n",
       "    </tr>\n",
       "    <tr>\n",
       "      <th>3</th>\n",
       "      <td>1515915625519014356</td>\n",
       "      <td>25</td>\n",
       "      <td>m</td>\n",
       "    </tr>\n",
       "    <tr>\n",
       "      <th>4</th>\n",
       "      <td>1515915625510743344</td>\n",
       "      <td>42</td>\n",
       "      <td>m</td>\n",
       "    </tr>\n",
       "  </tbody>\n",
       "</table>\n",
       "</div>"
      ],
      "text/plain": [
       "               user_id  user_age user_sex\n",
       "0  1515915625519388267        41        f\n",
       "1  1515915625519380411        84        m\n",
       "2  1515915625513238515        41        m\n",
       "3  1515915625519014356        25        m\n",
       "4  1515915625510743344        42        m"
      ]
     },
     "execution_count": 5,
     "metadata": {},
     "output_type": "execute_result"
    }
   ],
   "source": [
    "shop_users_info.head()\n"
   ]
  },
  {
   "cell_type": "code",
   "execution_count": 6,
   "metadata": {},
   "outputs": [],
   "source": [
    "def salt_generator(salt=None):\n",
    "    \"\"\"Генератор соли\"\"\"\n",
    "    salt = os.urandom(8)\n",
    "    return b64encode(salt).decode(\"ascii\")\n",
    "\n",
    "\n",
    "def groups_splitter(df, user_salt=None):\n",
    "    if user_salt == None:\n",
    "        salt = salt_generator()\n",
    "    else:\n",
    "        salt = user_salt\n",
    "\n",
    "    df[\"hash\"] = ((df[\"user_id\"].astype(str)) + \"#\" + salt).apply(\n",
    "        lambda x: hashlib.sha256(x.encode(\"utf-8\")).hexdigest()\n",
    "    )\n",
    "    df[\"group\"] = (df[\"hash\"].str.slice(start=-6).apply(int, base=16) % 2).map(lambda x: \"A\" if x == 0 else \"B\")\n",
    "\n",
    "    return df[[\"user_id\", \"group\"]].drop_duplicates()"
   ]
  },
  {
   "cell_type": "markdown",
   "metadata": {},
   "source": [
    "## 1. T-test и U-test Манна-Уитни на cart_added_cnt"
   ]
  },
  {
   "cell_type": "code",
   "execution_count": 17,
   "metadata": {},
   "outputs": [
    {
     "data": {
      "text/plain": [
       "<Axes: xlabel='cart_added_cnt', ylabel='Density'>"
      ]
     },
     "execution_count": 17,
     "metadata": {},
     "output_type": "execute_result"
    },
    {
     "data": {
      "image/png": "[encoded data removed]",
      "text/plain": [
       "<Figure size 640x480 with 1 Axes>"
      ]
     },
     "metadata": {},
     "output_type": "display_data"
    }
   ],
   "source": [
    "sns.kdeplot(shop_metrics_new[\"cart_added_cnt\"])\n"
   ]
  },
  {
   "cell_type": "code",
   "execution_count": 18,
   "metadata": {},
   "outputs": [
    {
     "data": {
      "text/plain": [
       "<Axes: xlabel='cart_added_cnt', ylabel='Density'>"
      ]
     },
     "execution_count": 18,
     "metadata": {},
     "output_type": "execute_result"
    },
    {
     "data": {
      "image/png": "[encoded data removed]",
      "text/plain": [
       "<Figure size 640x480 with 1 Axes>"
      ]
     },
     "metadata": {},
     "output_type": "display_data"
    }
   ],
   "source": [
    "sns.kdeplot(shop_metrics_old[\"cart_added_cnt\"])\n"
   ]
  },
  {
   "cell_type": "markdown",
   "metadata": {},
   "source": [
    "## 1.1 TTEST"
   ]
  },
  {
   "cell_type": "code",
   "execution_count": 7,
   "metadata": {},
   "outputs": [
    {
     "name": "stderr",
     "output_type": "stream",
     "text": [
      "100%|██████████| 1000/1000 [10:30<00:00,  1.58it/s]"
     ]
    },
    {
     "name": "stdout",
     "output_type": "stream",
     "text": [
      "0.02257390473412044\n",
      " power: 65.2%, correctness: 94.5%\n"
     ]
    },
    {
     "name": "stderr",
     "output_type": "stream",
     "text": [
      "\n"
     ]
    }
   ],
   "source": [
    "shop = shop_metrics_new.drop(columns=[\"group\"])\n",
    "TARGET_METRIC = \"cart_added_cnt\"\n",
    "\n",
    "correctness = []\n",
    "power = []\n",
    "\n",
    "for i in tqdm(range(1000)):\n",
    "    new_group = groups_splitter(shop.copy(), user_salt=salt_generator())\n",
    "    new_df = pd.merge(shop, new_group, how=\"left\", on=[\"user_id\"]).drop_duplicates()\n",
    "\n",
    "    vec_a = new_df[(new_df[\"group\"] == \"A\")][TARGET_METRIC]\n",
    "    vec_b = new_df[(new_df[\"group\"] == \"B\")][TARGET_METRIC]\n",
    "    vec_b_effect = vec_b + stats.norm.rvs(loc=vec_b.mean() * 0.05, scale=0.35, size=len(vec_b))\n",
    "    p_cor, p_power = stats.ttest_ind(vec_a, vec_b)[1], stats.ttest_ind(vec_a, vec_b_effect)[1]\n",
    "    correctness.append(p_cor)\n",
    "    power.append(p_power)\n",
    "\n",
    "correctness = np.array(correctness)\n",
    "\n",
    "power = np.array(power)\n",
    "print((vec_b_effect.mean() - vec_a.mean()) / vec_a.mean())\n",
    "print(\n",
    "    f\" power: {(power[power < 0.05].shape[0] / power.shape[0]) * 100}%, correctness: {(1 - (correctness[correctness < 0.05].shape[0] / correctness.shape[0])) * 100}%\"\n",
    ")"
   ]
  },
  {
   "cell_type": "markdown",
   "metadata": {},
   "source": [
    "## 1.2 MANNWHITNEYU"
   ]
  },
  {
   "cell_type": "code",
   "execution_count": 8,
   "metadata": {},
   "outputs": [
    {
     "name": "stderr",
     "output_type": "stream",
     "text": [
      "100%|██████████| 1000/1000 [14:42<00:00,  1.13it/s]"
     ]
    },
    {
     "name": "stdout",
     "output_type": "stream",
     "text": [
      "0.0663721553955001\n",
      " power: 99.6%, correctness: 94.69999999999999%\n"
     ]
    },
    {
     "name": "stderr",
     "output_type": "stream",
     "text": [
      "\n"
     ]
    }
   ],
   "source": [
    "correctness = []\n",
    "power = []\n",
    "\n",
    "for i in tqdm(range(1000)):\n",
    "    new_group = groups_splitter(shop.copy(), user_salt=salt_generator())\n",
    "    new_df = pd.merge(shop, new_group, how=\"left\", on=[\"user_id\"]).drop_duplicates()\n",
    "\n",
    "    vec_a = new_df[(new_df[\"group\"] == \"A\")][TARGET_METRIC]\n",
    "    vec_b = new_df[(new_df[\"group\"] == \"B\")][TARGET_METRIC]\n",
    "    vec_b_effect = vec_b + stats.norm.rvs(loc=vec_b.mean() * 0.05, scale=0.35, size=len(vec_b))\n",
    "    p_cor, p_power = stats.mannwhitneyu(vec_a, vec_b)[1], stats.mannwhitneyu(vec_a, vec_b_effect)[1]\n",
    "    correctness.append(p_cor)\n",
    "    power.append(p_power)\n",
    "\n",
    "correctness = np.array(correctness)\n",
    "\n",
    "power = np.array(power)\n",
    "print((vec_b_effect.mean() - vec_a.mean()) / vec_a.mean())\n",
    "print(\n",
    "    f\" power: {(power[power < 0.05].shape[0] / power.shape[0]) * 100}%, correctness: {(1 - (correctness[correctness < 0.05].shape[0] / correctness.shape[0])) * 100}%\"\n",
    ")"
   ]
  },
  {
   "cell_type": "markdown",
   "metadata": {},
   "source": [
    "## 2. CUPED"
   ]
  },
  {
   "cell_type": "code",
   "execution_count": 9,
   "metadata": {},
   "outputs": [],
   "source": [
    "def cuped_transform(df, metrics):\n",
    "    new_columns = [str(m + \"_cuped\") for m in metrics]\n",
    "    df[new_columns] = pd.DataFrame([[0] * len(new_columns)], index=df.index)\n",
    "\n",
    "    df_mini = df.fillna(0)\n",
    "    for m in metrics:\n",
    "        covariate_column = str(m + \"_covariate\")\n",
    "        cuped_column = str(m + \"_cuped\")\n",
    "        mean_covariate = df_mini[covariate_column].mean()\n",
    "\n",
    "        theta = (df_mini[m].cov(df_mini[covariate_column])) / (df_mini.loc[:, covariate_column].var())\n",
    "        df_mini[cuped_column] = df_mini[m] - (df_mini[covariate_column] - mean_covariate) * theta\n",
    "\n",
    "    df.update(df_mini)\n",
    "\n",
    "    return df.drop_duplicates()\n"
   ]
  },
  {
   "cell_type": "code",
   "execution_count": 10,
   "metadata": {},
   "outputs": [],
   "source": [
    "shop_metrics_all = pd.merge(shop_metrics_new, shop_metrics_old[[\"user_id\", TARGET_METRIC]], on=[\"user_id\"], how=\"left\")\n",
    "shop_metrics_all = shop_metrics_all.rename(\n",
    "    columns={f\"{TARGET_METRIC}_x\": TARGET_METRIC, f\"{TARGET_METRIC}_y\": f\"{TARGET_METRIC}_covariate\"}\n",
    ")\n",
    "shop_metrics_all_cuped = cuped_transform(shop_metrics_all.copy(), [TARGET_METRIC])\n"
   ]
  },
  {
   "cell_type": "markdown",
   "metadata": {},
   "source": [
    "## 2.1.1 Cuped stats"
   ]
  },
  {
   "cell_type": "code",
   "execution_count": 11,
   "metadata": {},
   "outputs": [
    {
     "name": "stdout",
     "output_type": "stream",
     "text": [
      "метрика_cuped A: 0.136382315726573,         метрика_cuped B: 0.1372102898471418\n"
     ]
    }
   ],
   "source": [
    "print(\n",
    "    f'метрика_cuped A: {shop_metrics_all_cuped[shop_metrics_all_cuped.group == \"A\"][f\"{TARGET_METRIC}_cuped\"].mean()}, \\\n",
    "        метрика_cuped B: {shop_metrics_all_cuped[shop_metrics_all_cuped.group == \"B\"][f\"{TARGET_METRIC}_cuped\"].mean()}'\n",
    ")"
   ]
  },
  {
   "cell_type": "code",
   "execution_count": 12,
   "metadata": {},
   "outputs": [
    {
     "name": "stdout",
     "output_type": "stream",
     "text": [
      "метрика без cuped A: 0.1350419058398685,         метрика без cuped B: 0.1385521582733813\n"
     ]
    }
   ],
   "source": [
    "print(\n",
    "    f'метрика без cuped A: {shop_metrics_all_cuped[shop_metrics_all_cuped.group == \"A\"][TARGET_METRIC].mean()}, \\\n",
    "        метрика без cuped B: {shop_metrics_all_cuped[shop_metrics_all_cuped.group == \"B\"][TARGET_METRIC].mean()}'\n",
    ")"
   ]
  },
  {
   "cell_type": "code",
   "execution_count": 13,
   "metadata": {},
   "outputs": [
    {
     "name": "stdout",
     "output_type": "stream",
     "text": [
      "метрика_cuped A: 0.01823518359964534,         метрика_cuped B: 0.02149536345539653\n"
     ]
    }
   ],
   "source": [
    "print(\n",
    "    f'метрика_cuped A: {shop_metrics_all_cuped[shop_metrics_all_cuped.group == \"A\"][f\"{TARGET_METRIC}_cuped\"].var()}, \\\n",
    "        метрика_cuped B: {shop_metrics_all_cuped[shop_metrics_all_cuped.group == \"B\"][f\"{TARGET_METRIC}_cuped\"].var()}'\n",
    ")"
   ]
  },
  {
   "cell_type": "code",
   "execution_count": 14,
   "metadata": {},
   "outputs": [
    {
     "name": "stdout",
     "output_type": "stream",
     "text": [
      "метрика без cuped A: 0.3805867322090304,         метрика без cuped B: 0.4247189893567569\n"
     ]
    }
   ],
   "source": [
    "print(\n",
    "    f'метрика без cuped A: {shop_metrics_all_cuped[shop_metrics_all_cuped.group == \"A\"][TARGET_METRIC].var()}, \\\n",
    "        метрика без cuped B: {shop_metrics_all_cuped[shop_metrics_all_cuped.group == \"B\"][TARGET_METRIC].var()}'\n",
    ")"
   ]
  },
  {
   "cell_type": "markdown",
   "metadata": {},
   "source": [
    "## 2.1.2 Cuped A/B"
   ]
  },
  {
   "cell_type": "code",
   "execution_count": 15,
   "metadata": {},
   "outputs": [
    {
     "name": "stderr",
     "output_type": "stream",
     "text": [
      "100%|██████████| 100/100 [01:23<00:00,  1.20it/s]"
     ]
    },
    {
     "name": "stdout",
     "output_type": "stream",
     "text": [
      " power: 100.0% , correctness: 97.0%\n"
     ]
    },
    {
     "name": "stderr",
     "output_type": "stream",
     "text": [
      "\n"
     ]
    }
   ],
   "source": [
    "correctness = []\n",
    "power = []\n",
    "\n",
    "for i in tqdm(range(100)):\n",
    "    new_group = groups_splitter(shop.copy(), user_salt=salt_generator())\n",
    "    new_df = pd.merge(shop, new_group, how=\"left\", on=[\"user_id\"]).drop_duplicates()\n",
    "    all_df = pd.merge(new_df, shop_metrics_old[[\"user_id\", TARGET_METRIC]], on=[\"user_id\"], how=\"left\")\n",
    "    all_df = all_df.rename(\n",
    "        columns={f\"{TARGET_METRIC}_x\": TARGET_METRIC, f\"{TARGET_METRIC}_y\": f\"{TARGET_METRIC}_covariate\"}\n",
    "    )\n",
    "\n",
    "    cuped_df = cuped_transform(all_df, [TARGET_METRIC])\n",
    "\n",
    "    vec_a = cuped_df[(cuped_df[\"group\"] == \"A\")][f\"{TARGET_METRIC}_cuped\"]\n",
    "    vec_b = cuped_df[(cuped_df[\"group\"] == \"B\")][f\"{TARGET_METRIC}_cuped\"]\n",
    "    vec_b_effect = vec_b * 1.05\n",
    "\n",
    "    p_cor, p_power = stats.ttest_ind(vec_a, vec_b)[1], stats.ttest_ind(vec_a, vec_b_effect)[1]\n",
    "    correctness.append(p_cor)\n",
    "    power.append(p_power)\n",
    "\n",
    "correctness = np.array(correctness)\n",
    "\n",
    "power = np.array(power)\n",
    "\n",
    "print(\n",
    "    f\" power: {(power[power < 0.05].shape[0] / power.shape[0]) * 100}% , correctness: {(1 - (correctness[correctness < 0.05].shape[0] / correctness.shape[0])) * 100}%\"\n",
    ")"
   ]
  },
  {
   "cell_type": "markdown",
   "metadata": {},
   "source": [
    "## 2.2.1 Cuped ln"
   ]
  },
  {
   "cell_type": "code",
   "execution_count": 17,
   "metadata": {},
   "outputs": [],
   "source": [
    "TARGET_METRIC_LN = TARGET_METRIC + \"_ln\"\n",
    "shop_metrics_new[TARGET_METRIC_LN] = np.log(shop_metrics_new[TARGET_METRIC] + 1)\n",
    "shop_metrics_old[TARGET_METRIC_LN] = np.log(shop_metrics_old[TARGET_METRIC] + 1)\n",
    "shop[TARGET_METRIC_LN] = np.log(shop[TARGET_METRIC] + 1)\n"
   ]
  },
  {
   "cell_type": "code",
   "execution_count": 18,
   "metadata": {},
   "outputs": [],
   "source": [
    "shop_metrics_all = pd.merge(\n",
    "    shop_metrics_new, shop_metrics_old[[\"user_id\", TARGET_METRIC_LN]], on=[\"user_id\"], how=\"left\"\n",
    ")\n",
    "shop_metrics_all = shop_metrics_all.rename(\n",
    "    columns={f\"{TARGET_METRIC_LN}_x\": TARGET_METRIC_LN, f\"{TARGET_METRIC_LN}_y\": f\"{TARGET_METRIC_LN}_covariate\"}\n",
    ")\n",
    "shop_metrics_all_cuped = cuped_transform(shop_metrics_all.copy(), [TARGET_METRIC_LN])"
   ]
  },
  {
   "cell_type": "markdown",
   "metadata": {},
   "source": [
    "## 2.2.2 Cuped ln stats"
   ]
  },
  {
   "cell_type": "code",
   "execution_count": 19,
   "metadata": {},
   "outputs": [
    {
     "name": "stdout",
     "output_type": "stream",
     "text": [
      "метрика_cuped A: 0.08034157852348373,         метрика_cuped B: 0.08072086382541538\n",
      "метрика без cuped A: 0.07974289062640032,         метрика без cuped B: 0.08132020317245879\n"
     ]
    }
   ],
   "source": [
    "print(\n",
    "    f'метрика_cuped A: {shop_metrics_all_cuped[shop_metrics_all_cuped.group == \"A\"][f\"{TARGET_METRIC_LN}_cuped\"].mean()}, \\\n",
    "        метрика_cuped B: {shop_metrics_all_cuped[shop_metrics_all_cuped.group == \"B\"][f\"{TARGET_METRIC_LN}_cuped\"].mean()}'\n",
    ")\n",
    "print(\n",
    "    f'метрика без cuped A: {shop_metrics_all_cuped[shop_metrics_all_cuped.group == \"A\"][TARGET_METRIC_LN].mean()}, \\\n",
    "        метрика без cuped B: {shop_metrics_all_cuped[shop_metrics_all_cuped.group == \"B\"][TARGET_METRIC_LN].mean()}'\n",
    ")"
   ]
  },
  {
   "cell_type": "code",
   "execution_count": 20,
   "metadata": {},
   "outputs": [
    {
     "name": "stdout",
     "output_type": "stream",
     "text": [
      "метрика_cuped A: 0.002055014378642915,         метрика_cuped B: 0.0017558187333519104\n",
      "метрика без cuped A: 0.06466232955752058,         метрика без cuped B: 0.06628259108478471\n"
     ]
    }
   ],
   "source": [
    "print(\n",
    "    f'метрика_cuped A: {shop_metrics_all_cuped[shop_metrics_all_cuped.group == \"A\"][f\"{TARGET_METRIC_LN}_cuped\"].var()}, \\\n",
    "        метрика_cuped B: {shop_metrics_all_cuped[shop_metrics_all_cuped.group == \"B\"][f\"{TARGET_METRIC_LN}_cuped\"].var()}'\n",
    ")\n",
    "print(\n",
    "    f'метрика без cuped A: {shop_metrics_all_cuped[shop_metrics_all_cuped.group == \"A\"][TARGET_METRIC_LN].var()}, \\\n",
    "        метрика без cuped B: {shop_metrics_all_cuped[shop_metrics_all_cuped.group == \"B\"][TARGET_METRIC_LN].var()}'\n",
    ")"
   ]
  },
  {
   "cell_type": "markdown",
   "metadata": {},
   "source": [
    "## 2.2.3 Cuped ln A/B"
   ]
  },
  {
   "cell_type": "code",
   "execution_count": 23,
   "metadata": {},
   "outputs": [
    {
     "name": "stderr",
     "output_type": "stream",
     "text": [
      "100%|██████████| 100/100 [01:25<00:00,  1.17it/s]"
     ]
    },
    {
     "name": "stdout",
     "output_type": "stream",
     "text": [
      " power: 100.0% , correctness: 91.0%\n"
     ]
    },
    {
     "name": "stderr",
     "output_type": "stream",
     "text": [
      "\n"
     ]
    }
   ],
   "source": [
    "correctness = []\n",
    "power = []\n",
    "\n",
    "for i in tqdm(range(100)):\n",
    "    new_group = groups_splitter(shop.copy(), user_salt=salt_generator())\n",
    "    new_df = pd.merge(shop, new_group, how=\"left\", on=[\"user_id\"]).drop_duplicates()\n",
    "    all_df = pd.merge(new_df, shop_metrics_old[[\"user_id\", TARGET_METRIC_LN]], on=[\"user_id\"], how=\"left\")\n",
    "    all_df = all_df.rename(\n",
    "        columns={f\"{TARGET_METRIC_LN}_x\": TARGET_METRIC_LN, f\"{TARGET_METRIC_LN}_y\": f\"{TARGET_METRIC_LN}_covariate\"}\n",
    "    )\n",
    "\n",
    "    cuped_df = cuped_transform(all_df, [TARGET_METRIC_LN])\n",
    "\n",
    "    vec_a = cuped_df[(cuped_df[\"group\"] == \"A\")][f\"{TARGET_METRIC_LN}_cuped\"]\n",
    "    vec_b = cuped_df[(cuped_df[\"group\"] == \"B\")][f\"{TARGET_METRIC_LN}_cuped\"]\n",
    "    vec_b_effect = vec_b * 1.05\n",
    "\n",
    "    p_cor, p_power = stats.ttest_ind(vec_a, vec_b)[1], stats.ttest_ind(vec_a, vec_b_effect)[1]\n",
    "    correctness.append(p_cor)\n",
    "    power.append(p_power)\n",
    "\n",
    "correctness = np.array(correctness)\n",
    "\n",
    "power = np.array(power)\n",
    "\n",
    "print(\n",
    "    f\" power: {(power[power < 0.05].shape[0] / power.shape[0]) * 100}% , correctness: {(1 - (correctness[correctness < 0.05].shape[0] / correctness.shape[0])) * 100}%\"\n",
    ")"
   ]
  },
  {
   "cell_type": "markdown",
   "metadata": {},
   "source": [
    "## 2.3.1 Cuped rank transform"
   ]
  },
  {
   "cell_type": "code",
   "execution_count": 24,
   "metadata": {},
   "outputs": [],
   "source": [
    "def rank(df_a, df_b, metric):\n",
    "    df = pd.concat([df_a, df_b], axis=0)\n",
    "    df[\"rank\"] = df[metric].rank()\n",
    "\n",
    "    return df"
   ]
  },
  {
   "cell_type": "code",
   "execution_count": 25,
   "metadata": {},
   "outputs": [],
   "source": [
    "shop_metrics_all = pd.merge(shop_metrics_new, shop_metrics_old[[\"user_id\", TARGET_METRIC]], on=[\"user_id\"], how=\"left\")\n",
    "shop_metrics_all = shop_metrics_all.rename(\n",
    "    columns={f\"{TARGET_METRIC}_x\": TARGET_METRIC, f\"{TARGET_METRIC}_y\": f\"{TARGET_METRIC}_covariate\"}\n",
    ")\n",
    "shop_metrics_all_cuped = cuped_transform(shop_metrics_all.copy(), [TARGET_METRIC])\n",
    "\n",
    "ranked_df = rank(\n",
    "    shop_metrics_all_cuped[shop_metrics_all_cuped.group == \"A\"],\n",
    "    shop_metrics_all_cuped[shop_metrics_all_cuped.group == \"B\"],\n",
    "    f\"{TARGET_METRIC}_cuped\",\n",
    ")"
   ]
  },
  {
   "cell_type": "markdown",
   "metadata": {},
   "source": [
    "## 2.3.2 Cuped rank stats"
   ]
  },
  {
   "cell_type": "code",
   "execution_count": 26,
   "metadata": {},
   "outputs": [
    {
     "name": "stdout",
     "output_type": "stream",
     "text": [
      "метрика_cuped A: 111157.3299691882,         метрика_cuped B: 111364.78283723022\n",
      "метрика без cuped A: 0.1350419058398685,         метрика без cuped B: 0.1385521582733813\n"
     ]
    }
   ],
   "source": [
    "print(\n",
    "    f'метрика_cuped A: {ranked_df[ranked_df.group == \"A\"][f\"rank\"].mean()}, \\\n",
    "        метрика_cuped B: {ranked_df[ranked_df.group == \"B\"][f\"rank\"].mean()}'\n",
    ")\n",
    "print(\n",
    "    f'метрика без cuped A: {ranked_df[ranked_df.group == \"A\"][TARGET_METRIC].mean()}, \\\n",
    "        метрика без cuped B: {ranked_df[ranked_df.group == \"B\"][TARGET_METRIC].mean()}'\n",
    ")"
   ]
  },
  {
   "cell_type": "code",
   "execution_count": 27,
   "metadata": {},
   "outputs": [
    {
     "name": "stdout",
     "output_type": "stream",
     "text": [
      "метрика_rank_cuped A: 1138307738.193268,         метрика_rank_cuped B: 1151768826.5589178\n",
      "метрика без cuped A: 0.3805867322090304,         метрика без cuped B: 0.4247189893567569\n"
     ]
    }
   ],
   "source": [
    "print(\n",
    "    f'метрика_rank_cuped A: {ranked_df[ranked_df.group == \"A\"][f\"rank\"].var()}, \\\n",
    "        метрика_rank_cuped B: {ranked_df[ranked_df.group == \"B\"][f\"rank\"].var()}'\n",
    ")\n",
    "print(\n",
    "    f'метрика без cuped A: {ranked_df[ranked_df.group == \"A\"][TARGET_METRIC].var()}, \\\n",
    "        метрика без cuped B: {ranked_df[ranked_df.group == \"B\"][TARGET_METRIC].var()}'\n",
    ")"
   ]
  },
  {
   "cell_type": "markdown",
   "metadata": {},
   "source": [
    "## 2.3.3 Cuped rank A/B"
   ]
  },
  {
   "cell_type": "code",
   "execution_count": 28,
   "metadata": {},
   "outputs": [
    {
     "name": "stderr",
     "output_type": "stream",
     "text": [
      "100%|██████████| 100/100 [01:39<00:00,  1.01it/s]"
     ]
    },
    {
     "name": "stdout",
     "output_type": "stream",
     "text": [
      " power: 100.0% , correctness: 94.0%\n"
     ]
    },
    {
     "name": "stderr",
     "output_type": "stream",
     "text": [
      "\n"
     ]
    }
   ],
   "source": [
    "correctness = []\n",
    "power = []\n",
    "\n",
    "for i in tqdm(range(100)):\n",
    "    new_group = groups_splitter(shop.copy(), user_salt=salt_generator())\n",
    "    new_df = pd.merge(shop, new_group, how=\"left\", on=[\"user_id\"]).drop_duplicates()\n",
    "    all_df = pd.merge(new_df, shop_metrics_old[[\"user_id\", TARGET_METRIC]], on=[\"user_id\"], how=\"left\")\n",
    "    all_df = all_df.rename(\n",
    "        columns={f\"{TARGET_METRIC}_x\": TARGET_METRIC, f\"{TARGET_METRIC}_y\": f\"{TARGET_METRIC}_covariate\"}\n",
    "    )\n",
    "\n",
    "    cuped_df = cuped_transform(all_df, [TARGET_METRIC])\n",
    "\n",
    "    ranked_df = rank(\n",
    "        cuped_df[cuped_df.group == \"A\"], cuped_df[cuped_df.group == \"B\"], f\"{TARGET_METRIC}_cuped\"\n",
    "    )\n",
    "\n",
    "    vec_a = ranked_df[(ranked_df[\"group\"] == \"A\")][\"rank\"]\n",
    "    vec_b = ranked_df[(ranked_df[\"group\"] == \"B\")][\"rank\"]\n",
    "\n",
    "    vec_b_effect = cuped_df[cuped_df[\"group\"] == \"B\"][f\"{TARGET_METRIC}_cuped\"] * 1.05\n",
    "    new_df_b = cuped_df[cuped_df.group == \"B\"].drop(columns=[f\"{TARGET_METRIC}_cuped\"])\n",
    "    new_df_b[f\"{TARGET_METRIC}_cuped\"] = list(vec_b_effect)\n",
    "\n",
    "    ranked_df_effect = rank(cuped_df[cuped_df.group == \"A\"], new_df_b, f\"{TARGET_METRIC}_cuped\")\n",
    "    vec_a_power = ranked_df_effect[(ranked_df_effect[\"group\"] == \"A\")][\"rank\"]\n",
    "    vec_b_power = ranked_df_effect[(ranked_df_effect[\"group\"] == \"B\")][\"rank\"]\n",
    "\n",
    "    p_cor, p_power = stats.ttest_ind(vec_a, vec_b)[1], stats.ttest_ind(vec_a_power, vec_b_power)[1]\n",
    "    correctness.append(p_cor)\n",
    "    power.append(p_power)\n",
    "\n",
    "correctness = np.array(correctness)\n",
    "\n",
    "power = np.array(power)\n",
    "print(\n",
    "    f\" power: {(power[power < 0.05].shape[0] / power.shape[0]) * 100}% , correctness: {(1 - (correctness[correctness < 0.05].shape[0] / correctness.shape[0])) * 100}%\"\n",
    ")"
   ]
  },
  {
   "cell_type": "markdown",
   "metadata": {},
   "source": [
    "# 3. Buckets split"
   ]
  },
  {
   "cell_type": "markdown",
   "metadata": {},
   "source": [
    "## 3.1 Lognorm destrib"
   ]
  },
  {
   "cell_type": "code",
   "execution_count": 43,
   "metadata": {},
   "outputs": [
    {
     "data": {
      "text/html": [
       "<div>\n",
       "<style scoped>\n",
       "    .dataframe tbody tr th:only-of-type {\n",
       "        vertical-align: middle;\n",
       "    }\n",
       "\n",
       "    .dataframe tbody tr th {\n",
       "        vertical-align: top;\n",
       "    }\n",
       "\n",
       "    .dataframe thead th {\n",
       "        text-align: right;\n",
       "    }\n",
       "</style>\n",
       "<table border=\"1\" class=\"dataframe\">\n",
       "  <thead>\n",
       "    <tr style=\"text-align: right;\">\n",
       "      <th></th>\n",
       "      <th>target</th>\n",
       "      <th>user_id</th>\n",
       "      <th>bucket_num</th>\n",
       "    </tr>\n",
       "  </thead>\n",
       "  <tbody>\n",
       "    <tr>\n",
       "      <th>0</th>\n",
       "      <td>0.092058</td>\n",
       "      <td>0</td>\n",
       "      <td>0</td>\n",
       "    </tr>\n",
       "    <tr>\n",
       "      <th>1</th>\n",
       "      <td>0.216087</td>\n",
       "      <td>1</td>\n",
       "      <td>1</td>\n",
       "    </tr>\n",
       "    <tr>\n",
       "      <th>2</th>\n",
       "      <td>0.815848</td>\n",
       "      <td>2</td>\n",
       "      <td>2</td>\n",
       "    </tr>\n",
       "    <tr>\n",
       "      <th>3</th>\n",
       "      <td>0.209380</td>\n",
       "      <td>3</td>\n",
       "      <td>3</td>\n",
       "    </tr>\n",
       "    <tr>\n",
       "      <th>4</th>\n",
       "      <td>0.236065</td>\n",
       "      <td>4</td>\n",
       "      <td>4</td>\n",
       "    </tr>\n",
       "  </tbody>\n",
       "</table>\n",
       "</div>"
      ],
      "text/plain": [
       "     target  user_id  bucket_num\n",
       "0  0.092058        0           0\n",
       "1  0.216087        1           1\n",
       "2  0.815848        2           2\n",
       "3  0.209380        3           3\n",
       "4  0.236065        4           4"
      ]
     },
     "execution_count": 43,
     "metadata": {},
     "output_type": "execute_result"
    }
   ],
   "source": [
    "np.random.seed(42)\n",
    "s = 0.55\n",
    "x = np.linspace(scipy.stats.lognorm.ppf(0.01, s), scipy.stats.lognorm.ppf(0.99, s), 10000)\n",
    "\n",
    "data = stats.lognorm.pdf(x, s)\n",
    "data = np.random.permutation(data)\n",
    "\n",
    "df_lognormal = pd.DataFrame({\"target\": data})\n",
    "df_lognormal[\"user_id\"] = df_lognormal.index\n",
    "df_lognormal[\"bucket_num\"] = df_lognormal[\"user_id\"] % 1000\n",
    "df_lognormal.head()"
   ]
  },
  {
   "cell_type": "markdown",
   "metadata": {},
   "source": [
    "## Buckets A/B"
   ]
  },
  {
   "cell_type": "code",
   "execution_count": 44,
   "metadata": {},
   "outputs": [
    {
     "name": "stderr",
     "output_type": "stream",
     "text": [
      "100%|██████████| 1000/1000 [00:34<00:00, 28.90it/s]"
     ]
    },
    {
     "name": "stdout",
     "output_type": "stream",
     "text": [
      "0.07419441297532722\n",
      " power: 52.0% , correctness: 94.39999999999999%\n"
     ]
    },
    {
     "name": "stderr",
     "output_type": "stream",
     "text": [
      "\n"
     ]
    }
   ],
   "source": [
    "correctness = []\n",
    "power = []\n",
    "\n",
    "for i in tqdm(range(1000)):\n",
    "    new_group = groups_splitter(df_lognormal.copy(), user_salt=salt_generator())\n",
    "    new_df = pd.merge(df_lognormal, new_group, how=\"left\", on=[\"user_id\"]).drop_duplicates()\n",
    "\n",
    "    vec_a = new_df[(new_df[\"group\"] == \"A\")][\"target\"]\n",
    "    vec_b = new_df[(new_df[\"group\"] == \"B\")][\"target\"]\n",
    "    vec_b_effect = vec_b + stats.norm.rvs(loc=vec_b.mean() * 0.05, scale=0.35, size=len(vec_b))\n",
    "    p_cor, p_power = stats.ttest_ind(vec_a, vec_b)[1], stats.ttest_ind(vec_a, vec_b_effect)[1]\n",
    "    correctness.append(p_cor)\n",
    "    power.append(p_power)\n",
    "\n",
    "correctness = np.array(correctness)\n",
    "\n",
    "power = np.array(power)\n",
    "print((vec_b_effect.mean() - vec_a.mean()) / vec_a.mean())\n",
    "print(\n",
    "    f\" power: {(power[power < 0.05].shape[0] / power.shape[0]) * 100}% , correctness: {(1 - (correctness[correctness < 0.05].shape[0] / correctness.shape[0])) * 100}%\"\n",
    ")"
   ]
  },
  {
   "cell_type": "code",
   "execution_count": 45,
   "metadata": {},
   "outputs": [
    {
     "data": {
      "text/html": [
       "<div>\n",
       "<style scoped>\n",
       "    .dataframe tbody tr th:only-of-type {\n",
       "        vertical-align: middle;\n",
       "    }\n",
       "\n",
       "    .dataframe tbody tr th {\n",
       "        vertical-align: top;\n",
       "    }\n",
       "\n",
       "    .dataframe thead th {\n",
       "        text-align: right;\n",
       "    }\n",
       "</style>\n",
       "<table border=\"1\" class=\"dataframe\">\n",
       "  <thead>\n",
       "    <tr style=\"text-align: right;\">\n",
       "      <th></th>\n",
       "      <th>bucket_num</th>\n",
       "      <th>target</th>\n",
       "      <th>user_id</th>\n",
       "    </tr>\n",
       "  </thead>\n",
       "  <tbody>\n",
       "    <tr>\n",
       "      <th>0</th>\n",
       "      <td>0</td>\n",
       "      <td>0.172720</td>\n",
       "      <td>0</td>\n",
       "    </tr>\n",
       "    <tr>\n",
       "      <th>1</th>\n",
       "      <td>1</td>\n",
       "      <td>0.391670</td>\n",
       "      <td>1</td>\n",
       "    </tr>\n",
       "    <tr>\n",
       "      <th>2</th>\n",
       "      <td>2</td>\n",
       "      <td>0.412363</td>\n",
       "      <td>2</td>\n",
       "    </tr>\n",
       "    <tr>\n",
       "      <th>3</th>\n",
       "      <td>3</td>\n",
       "      <td>0.452876</td>\n",
       "      <td>3</td>\n",
       "    </tr>\n",
       "    <tr>\n",
       "      <th>4</th>\n",
       "      <td>4</td>\n",
       "      <td>0.264277</td>\n",
       "      <td>4</td>\n",
       "    </tr>\n",
       "  </tbody>\n",
       "</table>\n",
       "</div>"
      ],
      "text/plain": [
       "   bucket_num    target  user_id\n",
       "0           0  0.172720        0\n",
       "1           1  0.391670        1\n",
       "2           2  0.412363        2\n",
       "3           3  0.452876        3\n",
       "4           4  0.264277        4"
      ]
     },
     "execution_count": 45,
     "metadata": {},
     "output_type": "execute_result"
    }
   ],
   "source": [
    "df_ln_bucket = df_lognormal.groupby(\"bucket_num\")[\"target\"].mean().to_frame().reset_index(drop=False)\n",
    "df_ln_bucket[\"user_id\"] = df_ln_bucket[\"bucket_num\"]\n",
    "df_ln_bucket.head()"
   ]
  },
  {
   "cell_type": "code",
   "execution_count": 46,
   "metadata": {},
   "outputs": [
    {
     "name": "stderr",
     "output_type": "stream",
     "text": [
      "100%|██████████| 1000/1000 [00:09<00:00, 103.28it/s]"
     ]
    },
    {
     "name": "stdout",
     "output_type": "stream",
     "text": [
      "-0.08902439621267362\n",
      " power: 17.7% , correctness: 93.9%\n"
     ]
    },
    {
     "name": "stderr",
     "output_type": "stream",
     "text": [
      "\n"
     ]
    }
   ],
   "source": [
    "correctness = []\n",
    "power = []\n",
    "\n",
    "for i in tqdm(range(1000)):\n",
    "    new_group = groups_splitter(df_ln_bucket.copy(), user_salt=salt_generator())\n",
    "    new_df = pd.merge(df_ln_bucket, new_group, how=\"left\", on=[\"user_id\"]).drop_duplicates()\n",
    "\n",
    "    vec_a = new_df[(new_df[\"group\"] == \"A\")][\"target\"]\n",
    "    vec_b = new_df[(new_df[\"group\"] == \"B\")][\"target\"]\n",
    "    vec_b_effect = vec_b + stats.norm.rvs(loc=vec_b.mean() * 0.05, scale=0.35, size=len(vec_b))\n",
    "    p_cor, p_power = stats.ttest_ind(vec_a, vec_b)[1], stats.ttest_ind(vec_a, vec_b_effect)[1]\n",
    "    correctness.append(p_cor)\n",
    "    power.append(p_power)\n",
    "\n",
    "correctness = np.array(correctness)\n",
    "\n",
    "power = np.array(power)\n",
    "print((vec_b_effect.mean() - vec_a.mean()) / vec_a.mean())\n",
    "print(\n",
    "    f\" power: {(power[power < 0.05].shape[0] / power.shape[0]) * 100}% , correctness: {(1 - (correctness[correctness < 0.05].shape[0] / correctness.shape[0])) * 100}%\"\n",
    ")"
   ]
  },
  {
   "cell_type": "markdown",
   "metadata": {},
   "source": [
    "## 3.2 Buckets real"
   ]
  },
  {
   "cell_type": "code",
   "execution_count": 48,
   "metadata": {},
   "outputs": [
    {
     "data": {
      "text/html": [
       "<div>\n",
       "<style scoped>\n",
       "    .dataframe tbody tr th:only-of-type {\n",
       "        vertical-align: middle;\n",
       "    }\n",
       "\n",
       "    .dataframe tbody tr th {\n",
       "        vertical-align: top;\n",
       "    }\n",
       "\n",
       "    .dataframe thead th {\n",
       "        text-align: right;\n",
       "    }\n",
       "</style>\n",
       "<table border=\"1\" class=\"dataframe\">\n",
       "  <thead>\n",
       "    <tr style=\"text-align: right;\">\n",
       "      <th></th>\n",
       "      <th>bucket_num</th>\n",
       "      <th>cart_added_cnt</th>\n",
       "      <th>user_id</th>\n",
       "    </tr>\n",
       "  </thead>\n",
       "  <tbody>\n",
       "    <tr>\n",
       "      <th>0</th>\n",
       "      <td>0</td>\n",
       "      <td>0.076233</td>\n",
       "      <td>0</td>\n",
       "    </tr>\n",
       "    <tr>\n",
       "      <th>1</th>\n",
       "      <td>1</td>\n",
       "      <td>0.143498</td>\n",
       "      <td>1</td>\n",
       "    </tr>\n",
       "    <tr>\n",
       "      <th>2</th>\n",
       "      <td>2</td>\n",
       "      <td>0.134529</td>\n",
       "      <td>2</td>\n",
       "    </tr>\n",
       "    <tr>\n",
       "      <th>3</th>\n",
       "      <td>3</td>\n",
       "      <td>0.062780</td>\n",
       "      <td>3</td>\n",
       "    </tr>\n",
       "    <tr>\n",
       "      <th>4</th>\n",
       "      <td>4</td>\n",
       "      <td>0.094170</td>\n",
       "      <td>4</td>\n",
       "    </tr>\n",
       "  </tbody>\n",
       "</table>\n",
       "</div>"
      ],
      "text/plain": [
       "   bucket_num  cart_added_cnt  user_id\n",
       "0           0        0.076233        0\n",
       "1           1        0.143498        1\n",
       "2           2        0.134529        2\n",
       "3           3        0.062780        3\n",
       "4           4        0.094170        4"
      ]
     },
     "execution_count": 48,
     "metadata": {},
     "output_type": "execute_result"
    }
   ],
   "source": [
    "shop_bucket = shop.copy()\n",
    "shop_bucket[\"bucket_num\"] = shop_bucket.index % 1000\n",
    "\n",
    "shop_bucket = shop_bucket.groupby(\"bucket_num\")[TARGET_METRIC].mean().to_frame().reset_index(drop=False)\n",
    "shop_bucket[\"user_id\"] = shop_bucket[\"bucket_num\"]\n",
    "\n",
    "shop_bucket.head()"
   ]
  },
  {
   "cell_type": "markdown",
   "metadata": {},
   "source": [
    "### 3.2.1 Buckets + lognorm"
   ]
  },
  {
   "cell_type": "code",
   "execution_count": 50,
   "metadata": {},
   "outputs": [
    {
     "name": "stderr",
     "output_type": "stream",
     "text": [
      "100%|██████████| 1000/1000 [00:09<00:00, 107.22it/s]"
     ]
    },
    {
     "name": "stdout",
     "output_type": "stream",
     "text": [
      "0.26162350629930764\n",
      " power: 8.799999999999999% , correctness: 94.69999999999999%\n"
     ]
    },
    {
     "name": "stderr",
     "output_type": "stream",
     "text": [
      "\n"
     ]
    }
   ],
   "source": [
    "correctness = []\n",
    "power = []\n",
    "\n",
    "for i in tqdm(range(1000)):\n",
    "    new_group = groups_splitter(shop_bucket.copy(), user_salt=salt_generator())\n",
    "    new_df = pd.merge(shop_bucket, new_group, how=\"left\", on=[\"user_id\"]).drop_duplicates()\n",
    "\n",
    "    vec_a = new_df[(new_df[\"group\"] == \"A\")][TARGET_METRIC]\n",
    "    vec_b = new_df[(new_df[\"group\"] == \"B\")][TARGET_METRIC]\n",
    "    vec_b_effect = vec_b + stats.norm.rvs(loc=vec_b.mean() * 0.05, scale=0.35, size=len(vec_b))\n",
    "    p_cor, p_power = stats.ttest_ind(vec_a, vec_b)[1], stats.ttest_ind(vec_a, vec_b_effect)[1]\n",
    "    correctness.append(p_cor)\n",
    "    power.append(p_power)\n",
    "\n",
    "correctness = np.array(correctness)\n",
    "\n",
    "power = np.array(power)\n",
    "print((vec_b_effect.mean() - vec_a.mean()) / vec_a.mean())\n",
    "print(\n",
    "    f\" power: {(power[power < 0.05].shape[0] / power.shape[0]) * 100}% , correctness: {(1 - (correctness[correctness < 0.05].shape[0] / correctness.shape[0])) * 100}%\"\n",
    ")"
   ]
  },
  {
   "cell_type": "markdown",
   "metadata": {},
   "source": [
    "### 3.2.2 Buckets default"
   ]
  },
  {
   "cell_type": "code",
   "execution_count": 51,
   "metadata": {},
   "outputs": [
    {
     "name": "stderr",
     "output_type": "stream",
     "text": [
      "100%|██████████| 1000/1000 [00:09<00:00, 110.02it/s]"
     ]
    },
    {
     "name": "stdout",
     "output_type": "stream",
     "text": [
      "0.03231432700593058\n",
      " power: 68.8% , correctness: 93.9%\n"
     ]
    },
    {
     "name": "stderr",
     "output_type": "stream",
     "text": [
      "\n"
     ]
    }
   ],
   "source": [
    "correctness = []\n",
    "power = []\n",
    "\n",
    "for i in tqdm(range(1000)):\n",
    "    new_group = groups_splitter(shop_bucket.copy(), user_salt=salt_generator())\n",
    "    new_df = pd.merge(shop_bucket, new_group, how=\"left\", on=[\"user_id\"]).drop_duplicates()\n",
    "\n",
    "    vec_a = new_df[(new_df[\"group\"] == \"A\")][TARGET_METRIC]\n",
    "    vec_b = new_df[(new_df[\"group\"] == \"B\")][TARGET_METRIC]\n",
    "    vec_b_effect = vec_b + vec_b.mean() * 0.05\n",
    "    p_cor, p_power = stats.ttest_ind(vec_a, vec_b)[1], stats.ttest_ind(vec_a, vec_b_effect)[1]\n",
    "    correctness.append(p_cor)\n",
    "    power.append(p_power)\n",
    "\n",
    "correctness = np.array(correctness)\n",
    "\n",
    "power = np.array(power)\n",
    "print((vec_b_effect.mean() - vec_a.mean()) / vec_a.mean())\n",
    "print(\n",
    "    f\" power: {(power[power < 0.05].shape[0] / power.shape[0]) * 100}% , correctness: {(1 - (correctness[correctness < 0.05].shape[0] / correctness.shape[0])) * 100}%\"\n",
    ")"
   ]
  },
  {
   "cell_type": "markdown",
   "metadata": {},
   "source": [
    "## 4. PostStratification"
   ]
  },
  {
   "cell_type": "code",
   "execution_count": 52,
   "metadata": {},
   "outputs": [
    {
     "data": {
      "text/html": [
       "<div>\n",
       "<style scoped>\n",
       "    .dataframe tbody tr th:only-of-type {\n",
       "        vertical-align: middle;\n",
       "    }\n",
       "\n",
       "    .dataframe tbody tr th {\n",
       "        vertical-align: top;\n",
       "    }\n",
       "\n",
       "    .dataframe thead th {\n",
       "        text-align: right;\n",
       "    }\n",
       "</style>\n",
       "<table border=\"1\" class=\"dataframe\">\n",
       "  <thead>\n",
       "    <tr style=\"text-align: right;\">\n",
       "      <th></th>\n",
       "      <th>user_id</th>\n",
       "      <th>group</th>\n",
       "      <th>cart_added_cnt</th>\n",
       "      <th>cart_added_cnt_ln</th>\n",
       "      <th>user_age</th>\n",
       "      <th>user_sex</th>\n",
       "    </tr>\n",
       "  </thead>\n",
       "  <tbody>\n",
       "    <tr>\n",
       "      <th>0</th>\n",
       "      <td>1515915625353226922</td>\n",
       "      <td>B</td>\n",
       "      <td>0</td>\n",
       "      <td>0.0</td>\n",
       "      <td>55</td>\n",
       "      <td>f</td>\n",
       "    </tr>\n",
       "    <tr>\n",
       "      <th>1</th>\n",
       "      <td>1515915625353230067</td>\n",
       "      <td>A</td>\n",
       "      <td>0</td>\n",
       "      <td>0.0</td>\n",
       "      <td>58</td>\n",
       "      <td>m</td>\n",
       "    </tr>\n",
       "    <tr>\n",
       "      <th>2</th>\n",
       "      <td>1515915625353230683</td>\n",
       "      <td>A</td>\n",
       "      <td>0</td>\n",
       "      <td>0.0</td>\n",
       "      <td>23</td>\n",
       "      <td>f</td>\n",
       "    </tr>\n",
       "    <tr>\n",
       "      <th>3</th>\n",
       "      <td>1515915625353230922</td>\n",
       "      <td>A</td>\n",
       "      <td>0</td>\n",
       "      <td>0.0</td>\n",
       "      <td>33</td>\n",
       "      <td>m</td>\n",
       "    </tr>\n",
       "    <tr>\n",
       "      <th>4</th>\n",
       "      <td>1515915625353234047</td>\n",
       "      <td>A</td>\n",
       "      <td>0</td>\n",
       "      <td>0.0</td>\n",
       "      <td>26</td>\n",
       "      <td>f</td>\n",
       "    </tr>\n",
       "  </tbody>\n",
       "</table>\n",
       "</div>"
      ],
      "text/plain": [
       "               user_id group  cart_added_cnt  cart_added_cnt_ln  user_age  \\\n",
       "0  1515915625353226922     B               0                0.0        55   \n",
       "1  1515915625353230067     A               0                0.0        58   \n",
       "2  1515915625353230683     A               0                0.0        23   \n",
       "3  1515915625353230922     A               0                0.0        33   \n",
       "4  1515915625353234047     A               0                0.0        26   \n",
       "\n",
       "  user_sex  \n",
       "0        f  \n",
       "1        m  \n",
       "2        f  \n",
       "3        m  \n",
       "4        f  "
      ]
     },
     "execution_count": 52,
     "metadata": {},
     "output_type": "execute_result"
    }
   ],
   "source": [
    "shop_w_features = pd.merge(shop_metrics_old, shop_users_info, on=[\"user_id\"], how=\"left\")\n",
    "shop_w_features.drop(\n",
    "    [\"is_viewed\", \"is_viewed\", \"products_viewed_cnt\", \"price_sum\", \"is_cart_added\", \"is_purchased\", \"purchased_cnt\"],\n",
    "    axis=1,\n",
    "    inplace=True,\n",
    ")\n",
    "shop_w_features.head()"
   ]
  },
  {
   "cell_type": "code",
   "execution_count": 53,
   "metadata": {},
   "outputs": [
    {
     "data": {
      "text/html": [
       "<div>\n",
       "<style scoped>\n",
       "    .dataframe tbody tr th:only-of-type {\n",
       "        vertical-align: middle;\n",
       "    }\n",
       "\n",
       "    .dataframe tbody tr th {\n",
       "        vertical-align: top;\n",
       "    }\n",
       "\n",
       "    .dataframe thead th {\n",
       "        text-align: right;\n",
       "    }\n",
       "</style>\n",
       "<table border=\"1\" class=\"dataframe\">\n",
       "  <thead>\n",
       "    <tr style=\"text-align: right;\">\n",
       "      <th></th>\n",
       "      <th>user_id</th>\n",
       "      <th>group</th>\n",
       "      <th>cart_added_cnt</th>\n",
       "      <th>cart_added_cnt_ln</th>\n",
       "      <th>user_age</th>\n",
       "      <th>user_sex</th>\n",
       "      <th>age_group</th>\n",
       "      <th>sex_age_group</th>\n",
       "    </tr>\n",
       "  </thead>\n",
       "  <tbody>\n",
       "    <tr>\n",
       "      <th>0</th>\n",
       "      <td>1515915625353226922</td>\n",
       "      <td>B</td>\n",
       "      <td>0</td>\n",
       "      <td>0.0</td>\n",
       "      <td>55</td>\n",
       "      <td>f</td>\n",
       "      <td>45-60</td>\n",
       "      <td>f_45-60</td>\n",
       "    </tr>\n",
       "    <tr>\n",
       "      <th>1</th>\n",
       "      <td>1515915625353230067</td>\n",
       "      <td>A</td>\n",
       "      <td>0</td>\n",
       "      <td>0.0</td>\n",
       "      <td>58</td>\n",
       "      <td>m</td>\n",
       "      <td>45-60</td>\n",
       "      <td>m_45-60</td>\n",
       "    </tr>\n",
       "    <tr>\n",
       "      <th>2</th>\n",
       "      <td>1515915625353230683</td>\n",
       "      <td>A</td>\n",
       "      <td>0</td>\n",
       "      <td>0.0</td>\n",
       "      <td>23</td>\n",
       "      <td>f</td>\n",
       "      <td>18-24</td>\n",
       "      <td>f_18-24</td>\n",
       "    </tr>\n",
       "    <tr>\n",
       "      <th>3</th>\n",
       "      <td>1515915625353230922</td>\n",
       "      <td>A</td>\n",
       "      <td>0</td>\n",
       "      <td>0.0</td>\n",
       "      <td>33</td>\n",
       "      <td>m</td>\n",
       "      <td>25-45</td>\n",
       "      <td>m_25-45</td>\n",
       "    </tr>\n",
       "    <tr>\n",
       "      <th>4</th>\n",
       "      <td>1515915625353234047</td>\n",
       "      <td>A</td>\n",
       "      <td>0</td>\n",
       "      <td>0.0</td>\n",
       "      <td>26</td>\n",
       "      <td>f</td>\n",
       "      <td>25-45</td>\n",
       "      <td>f_25-45</td>\n",
       "    </tr>\n",
       "  </tbody>\n",
       "</table>\n",
       "</div>"
      ],
      "text/plain": [
       "               user_id group  cart_added_cnt  cart_added_cnt_ln  user_age  \\\n",
       "0  1515915625353226922     B               0                0.0        55   \n",
       "1  1515915625353230067     A               0                0.0        58   \n",
       "2  1515915625353230683     A               0                0.0        23   \n",
       "3  1515915625353230922     A               0                0.0        33   \n",
       "4  1515915625353234047     A               0                0.0        26   \n",
       "\n",
       "  user_sex age_group sex_age_group  \n",
       "0        f     45-60       f_45-60  \n",
       "1        m     45-60       m_45-60  \n",
       "2        f     18-24       f_18-24  \n",
       "3        m     25-45       m_25-45  \n",
       "4        f     25-45       f_25-45  "
      ]
     },
     "execution_count": 53,
     "metadata": {},
     "output_type": "execute_result"
    }
   ],
   "source": [
    "def map_age(age: int):\n",
    "    if age in range(18, 25):\n",
    "        return \"18-24\"\n",
    "    elif age in range(25, 46):\n",
    "        return \"25-45\"\n",
    "    elif age in range(46, 61):\n",
    "        return \"45-60\"\n",
    "    elif age in range(61, 76):\n",
    "        return \"61-75\"\n",
    "    else:\n",
    "        return \"76+\"\n",
    "\n",
    "\n",
    "shop_w_features[\"age_group\"] = shop_w_features[\"user_age\"].apply(map_age)\n",
    "shop_w_features[\"sex_age_group\"] = shop_w_features[\"user_sex\"] + \"_\" + shop_w_features[\"age_group\"]\n",
    "shop_w_features.head()"
   ]
  },
  {
   "cell_type": "markdown",
   "metadata": {},
   "source": [
    "### 4.1 Stats"
   ]
  },
  {
   "cell_type": "markdown",
   "metadata": {},
   "source": [
    "### 4.1.1 Befoure"
   ]
  },
  {
   "cell_type": "markdown",
   "metadata": {},
   "source": [
    "#### Ttest"
   ]
  },
  {
   "cell_type": "code",
   "execution_count": 56,
   "metadata": {},
   "outputs": [
    {
     "data": {
      "text/plain": [
       "TtestResult(statistic=-0.7331870372707812, pvalue=0.4634447828246868, df=406861.0)"
      ]
     },
     "execution_count": 56,
     "metadata": {},
     "output_type": "execute_result"
    }
   ],
   "source": [
    "stats.ttest_ind(\n",
    "    shop_w_features[shop_w_features.group == \"A\"][TARGET_METRIC],\n",
    "    shop_w_features[shop_w_features.group == \"B\"][TARGET_METRIC],\n",
    ")"
   ]
  },
  {
   "cell_type": "markdown",
   "metadata": {},
   "source": [
    "#### Means"
   ]
  },
  {
   "cell_type": "code",
   "execution_count": 57,
   "metadata": {},
   "outputs": [
    {
     "data": {
      "text/plain": [
       "1.1242734540045785"
      ]
     },
     "execution_count": 57,
     "metadata": {},
     "output_type": "execute_result"
    }
   ],
   "source": [
    "(\n",
    "    shop_w_features[shop_w_features.group == \"B\"][TARGET_METRIC].mean()\n",
    "    - shop_w_features[shop_w_features.group == \"A\"][TARGET_METRIC].mean()\n",
    ") / shop_w_features[shop_w_features.group == \"A\"][TARGET_METRIC].mean() * 100"
   ]
  },
  {
   "cell_type": "markdown",
   "metadata": {},
   "source": [
    "#### Std"
   ]
  },
  {
   "cell_type": "code",
   "execution_count": 83,
   "metadata": {},
   "outputs": [
    {
     "name": "stdout",
     "output_type": "stream",
     "text": [
      "0.576689119780438 0.5987645651973791\n"
     ]
    }
   ],
   "source": [
    "print(\n",
    "    shop_w_features[shop_w_features.group == \"A\"][TARGET_METRIC].std(),\n",
    "    shop_w_features[shop_w_features.group == \"B\"][TARGET_METRIC].std(),\n",
    ")"
   ]
  },
  {
   "cell_type": "markdown",
   "metadata": {},
   "source": [
    "### 4.2 Stratification"
   ]
  },
  {
   "cell_type": "code",
   "execution_count": 59,
   "metadata": {},
   "outputs": [
    {
     "data": {
      "text/plain": [
       "{'m_25-45': 0.18906118275684936,\n",
       " 'm_45-60': 0.1342073376050415,\n",
       " 'm_61-75': 0.13333726586099007,\n",
       " 'f_25-45': 0.12529770463276335,\n",
       " 'f_45-60': 0.08958052219051622,\n",
       " 'f_61-75': 0.08893657078672673,\n",
       " 'm_76+': 0.08015228713350686,\n",
       " 'm_18-24': 0.06318097246493291,\n",
       " 'f_76+': 0.05458102604562224,\n",
       " 'f_18-24': 0.04166513052305076}"
      ]
     },
     "execution_count": 59,
     "metadata": {},
     "output_type": "execute_result"
    }
   ],
   "source": [
    "N = shop_w_features[\"user_id\"].nunique()\n",
    "\n",
    "strats_weights = {}\n",
    "for i in range(shop_w_features[\"sex_age_group\"].nunique()):\n",
    "    key = shop_w_features[\"sex_age_group\"].value_counts().index[i]\n",
    "    strats_weights[key] = shop_w_features[\"sex_age_group\"].value_counts().iloc[i] / N\n",
    "\n",
    "strats_weights"
   ]
  },
  {
   "cell_type": "code",
   "execution_count": 60,
   "metadata": {},
   "outputs": [
    {
     "name": "stdout",
     "output_type": "stream",
     "text": [
      "effect: 1.1238909894351434, std_a: 8.179175411681481e-07, std_b: 8.814427810322829e-07\n"
     ]
    },
    {
     "data": {
      "text/plain": [
       "Ttest_indResult(statistic=-506738.4365829322, pvalue=0.0)"
      ]
     },
     "execution_count": 60,
     "metadata": {},
     "output_type": "execute_result"
    }
   ],
   "source": [
    "mean_a = 0\n",
    "mean_b = 0\n",
    "\n",
    "std_a = 0\n",
    "std_b = 0\n",
    "\n",
    "for sex_age in strats_weights:\n",
    "    mean_a += shop_w_features[(shop_w_features.group == 'A') & (shop_w_features['sex_age_group'] == sex_age)][TARGET_METRIC].mean() * strats_weights[sex_age]\n",
    "    mean_b += shop_w_features[(shop_w_features.group == 'B') & (shop_w_features['sex_age_group'] == sex_age)][TARGET_METRIC].mean() * strats_weights[sex_age]\n",
    "\n",
    "    std_a += shop_w_features[(shop_w_features.group == 'A') & (shop_w_features['sex_age_group'] == sex_age)][TARGET_METRIC].std()**2 * strats_weights[sex_age]\n",
    "    std_b += shop_w_features[(shop_w_features.group == 'B') & (shop_w_features['sex_age_group'] == sex_age)][TARGET_METRIC].std()**2 * strats_weights[sex_age]\n",
    "\n",
    "std_a, std_b = std_a / N, std_b / N\n",
    "\n",
    "n_a = len(shop_w_features[shop_w_features.group == 'A'])\n",
    "n_b = len(shop_w_features[shop_w_features.group == 'B'])\n",
    "\n",
    "print(f'effect: {(mean_b - mean_a) / mean_a * 100}, std_a: {std_a}, std_b: {std_b}')\n",
    "\n",
    "stats.ttest_ind_from_stats(mean_a, std_a, n_a, mean_b, std_b, n_b)"
   ]
  },
  {
   "cell_type": "markdown",
   "metadata": {},
   "source": [
    "## 4.3 Stratification A/B"
   ]
  },
  {
   "cell_type": "code",
   "execution_count": 61,
   "metadata": {},
   "outputs": [],
   "source": [
    "shop_new = shop_w_features.drop(\"group\", axis=1)"
   ]
  },
  {
   "cell_type": "code",
   "execution_count": 63,
   "metadata": {},
   "outputs": [
    {
     "name": "stderr",
     "output_type": "stream",
     "text": [
      "100%|██████████| 10/10 [22:34<00:00, 135.45s/it]"
     ]
    },
    {
     "name": "stdout",
     "output_type": "stream",
     "text": [
      " power: 20.718182778969826% , correctness: 95.56951111307738%\n"
     ]
    },
    {
     "name": "stderr",
     "output_type": "stream",
     "text": [
      "\n"
     ]
    }
   ],
   "source": [
    "corr_group = 0\n",
    "power_group = 0\n",
    "\n",
    "for sex_age in tqdm(strats_weights):\n",
    "    correctness = []\n",
    "    power = []\n",
    "    for _ in range(100):\n",
    "        new_group = groups_splitter(shop_new.copy(), user_salt=salt_generator())\n",
    "        new_df = pd.merge(shop_new, new_group, how=\"left\", on=[\"user_id\"]).drop_duplicates()\n",
    "\n",
    "        vec_a = new_df[(new_df.group == \"A\") & (new_df[\"sex_age_group\"] == sex_age)][TARGET_METRIC]\n",
    "        vec_b = new_df[(new_df.group == \"B\") & (new_df[\"sex_age_group\"] == sex_age)][TARGET_METRIC]\n",
    "        vec_b_effect = vec_b + vec_b.mean() * 0.05\n",
    "\n",
    "        p_cor_group, p_power_group = stats.ttest_ind(vec_a, vec_b)[1], stats.ttest_ind(vec_a, vec_b_effect)[1]\n",
    "\n",
    "        correctness.append(p_cor_group)\n",
    "        power.append(p_power_group)\n",
    "\n",
    "    correctness = np.array(correctness)\n",
    "    power = np.array(power)\n",
    "\n",
    "    power_group += (power[power < 0.05].shape[0] / power.shape[0]) * strats_weights[sex_age]\n",
    "    corr_group += (1 - (correctness[correctness < 0.05].shape[0] / correctness.shape[0])) * strats_weights[sex_age]\n",
    "\n",
    "print(f\" power: {power_group * 100}% , correctness: {corr_group * 100}%\")"
   ]
  }
 ],
 "metadata": {
  "kernelspec": {
   "display_name": "Python 3.10.5 64-bit ('3.10.5')",
   "language": "python",
   "name": "python3"
  },
  "language_info": {
   "codemirror_mode": {
    "name": "ipython",
    "version": 3
   },
   "file_extension": ".py",
   "mimetype": "text/x-python",
   "name": "python",
   "nbconvert_exporter": "python",
   "pygments_lexer": "ipython3",
   "version": "3.10.5"
  },
  "vscode": {
   "interpreter": {
    "hash": "05862f2ec08e75471c88804b112e77b41c3137e9f77391361e0c2143eb9927f9"
   }
  }
 },
 "nbformat": 4,
 "nbformat_minor": 2
}
