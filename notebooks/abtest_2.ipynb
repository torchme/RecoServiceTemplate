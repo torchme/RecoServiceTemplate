{
 "cells": [
  {
   "cell_type": "code",
   "execution_count": null,
   "metadata": {},
   "outputs": [],
   "source": []
  }
 ],
 "metadata": {
  "kernelspec": {
   "display_name": "Python 3.10.5 ('.venv': poetry)",
   "language": "python",
   "name": "python3"
  },
  "language_info": {
   "name": "python",
   "version": "3.10.5"
  },
  "orig_nbformat": 4,
  "vscode": {
   "interpreter": {
    "hash": "67b535036947e74c085a4aadcefc9f79258af3bc3b204eef7c6c9c0865dc5f6e"
   }
  }
 },
 "nbformat": 4,
 "nbformat_minor": 2
}
