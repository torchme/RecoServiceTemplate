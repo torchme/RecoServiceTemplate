{
  "nbformat": 4,
  "nbformat_minor": 0,
  "metadata": {
    "colab": {
      "provenance": []
    },
    "kernelspec": {
      "name": "python3",
      "display_name": "Python 3"
    },
    "language_info": {
      "name": "python"
    },
    "widgets": {
      "application/vnd.jupyter.widget-state+json": {
        "07fc4422b19d43e988ce255e5de3ec8e": {
          "model_module": "catboost-widget",
          "model_name": "CatboostWidgetModel",
          "model_module_version": "^1.0.0",
          "state": {
            "_dom_classes": [],
            "_model_module": "catboost-widget",
            "_model_module_version": "^1.0.0",
            "_model_name": "CatboostWidgetModel",
            "_view_count": null,
            "_view_module": "catboost-widget",
            "_view_module_version": "^1.0.0",
            "_view_name": "CatboostWidgetView",
            "data": {
              "catboost_info": {
                "path": "catboost_info",
                "name": "catboost_info",
                "content": {
                  "passed_iterations": 9,
                  "total_iterations": 10,
                  "data": {
                    "iterations": [
                      {
                        "iteration": 0,
                        "passed_time": 9.677237278,
                        "remaining_time": 87.0951355,
                        "test": [
                          0.7963705983,
                          0.7651597779
                        ]
                      },
                      {
                        "iteration": 1,
                        "passed_time": 20.7582118,
                        "remaining_time": 83.0328472,
                        "test": [
                          0.7976028277,
                          0.7704752799
                        ]
                      },
                      {
                        "iteration": 2,
                        "passed_time": 32.21839257,
                        "remaining_time": 75.17624932,
                        "test": [
                          0.8000424928,
                          0.7729130993
                        ]
                      },
                      {
                        "iteration": 3,
                        "passed_time": 41.07470822,
                        "remaining_time": 61.61206232,
                        "test": [
                          0.8001673929,
                          0.7727544799
                        ]
                      },
                      {
                        "iteration": 4,
                        "passed_time": 53.22615636,
                        "remaining_time": 53.22615636,
                        "test": [
                          0.8003455593,
                          0.7728393866
                        ]
                      },
                      {
                        "iteration": 5,
                        "passed_time": 64.69820588,
                        "remaining_time": 43.13213725,
                        "test": [
                          0.8011107037,
                          0.7734229479
                        ]
                      },
                      {
                        "iteration": 6,
                        "passed_time": 73.64098017,
                        "remaining_time": 31.56042007,
                        "test": [
                          0.8011166949,
                          0.773422332
                        ]
                      },
                      {
                        "iteration": 7,
                        "passed_time": 84.97616214,
                        "remaining_time": 21.24404054,
                        "test": [
                          0.8015993888,
                          0.7737317491
                        ]
                      },
                      {
                        "iteration": 8,
                        "passed_time": 97.13235839,
                        "remaining_time": 10.79248427,
                        "test": [
                          0.8144637007,
                          0.7858273802
                        ]
                      },
                      {
                        "iteration": 9,
                        "passed_time": 109.1672053,
                        "remaining_time": 0,
                        "test": [
                          0.8144714803,
                          0.7857155578
                        ]
                      }
                    ],
                    "meta": {
                      "test_sets": [
                        "test"
                      ],
                      "test_metrics": [
                        {
                          "best_value": "Max",
                          "name": "NDCG:type=Base"
                        },
                        {
                          "best_value": "Max",
                          "name": "NDCG:top=10;type=Base"
                        }
                      ],
                      "learn_metrics": [],
                      "launch_mode": "Train",
                      "parameters": "",
                      "iteration_count": 10,
                      "learn_sets": [
                        "learn"
                      ],
                      "name": "experiment"
                    }
                  }
                }
              }
            },
            "layout": "IPY_MODEL_2b8eaa77fc6b43c4b6c53566541d1265"
          }
        }
      }
    }
  },
  "cells": [
    {
      "cell_type": "code",
      "source": [
        "!pip install shap\n",
        "!pip install lightfm\n",
        "!pip install rectools\n",
        "!pip install catboost"
      ],
      "metadata": {
        "id": "wTJzLEaReyuf",
        "colab": {
          "base_uri": "https://localhost:8080/"
        },
        "outputId": "c1b04d47-7529-4239-dd0f-c12e36487de9"
      },
      "execution_count": null,
      "outputs": [
        {
          "output_type": "stream",
          "name": "stdout",
          "text": [
            "Requirement already satisfied: shap in /usr/local/lib/python3.10/dist-packages (0.44.0)\n",
            "Requirement already satisfied: numpy in /usr/local/lib/python3.10/dist-packages (from shap) (1.23.5)\n",
            "Requirement already satisfied: scipy in /usr/local/lib/python3.10/dist-packages (from shap) (1.11.4)\n",
            "Requirement already satisfied: scikit-learn in /usr/local/lib/python3.10/dist-packages (from shap) (1.2.2)\n",
            "Requirement already satisfied: pandas in /usr/local/lib/python3.10/dist-packages (from shap) (1.5.3)\n",
            "Requirement already satisfied: tqdm>=4.27.0 in /usr/local/lib/python3.10/dist-packages (from shap) (4.66.1)\n",
            "Requirement already satisfied: packaging>20.9 in /usr/local/lib/python3.10/dist-packages (from shap) (23.2)\n",
            "Requirement already satisfied: slicer==0.0.7 in /usr/local/lib/python3.10/dist-packages (from shap) (0.0.7)\n",
            "Requirement already satisfied: numba in /usr/local/lib/python3.10/dist-packages (from shap) (0.58.1)\n",
            "Requirement already satisfied: cloudpickle in /usr/local/lib/python3.10/dist-packages (from shap) (2.2.1)\n",
            "Requirement already satisfied: llvmlite<0.42,>=0.41.0dev0 in /usr/local/lib/python3.10/dist-packages (from numba->shap) (0.41.1)\n",
            "Requirement already satisfied: python-dateutil>=2.8.1 in /usr/local/lib/python3.10/dist-packages (from pandas->shap) (2.8.2)\n",
            "Requirement already satisfied: pytz>=2020.1 in /usr/local/lib/python3.10/dist-packages (from pandas->shap) (2023.3.post1)\n",
            "Requirement already satisfied: joblib>=1.1.1 in /usr/local/lib/python3.10/dist-packages (from scikit-learn->shap) (1.3.2)\n",
            "Requirement already satisfied: threadpoolctl>=2.0.0 in /usr/local/lib/python3.10/dist-packages (from scikit-learn->shap) (3.2.0)\n",
            "Requirement already satisfied: six>=1.5 in /usr/local/lib/python3.10/dist-packages (from python-dateutil>=2.8.1->pandas->shap) (1.16.0)\n",
            "Requirement already satisfied: lightfm in /usr/local/lib/python3.10/dist-packages (1.17)\n",
            "Requirement already satisfied: numpy in /usr/local/lib/python3.10/dist-packages (from lightfm) (1.23.5)\n",
            "Requirement already satisfied: scipy>=0.17.0 in /usr/local/lib/python3.10/dist-packages (from lightfm) (1.11.4)\n",
            "Requirement already satisfied: requests in /usr/local/lib/python3.10/dist-packages (from lightfm) (2.31.0)\n",
            "Requirement already satisfied: scikit-learn in /usr/local/lib/python3.10/dist-packages (from lightfm) (1.2.2)\n",
            "Requirement already satisfied: charset-normalizer<4,>=2 in /usr/local/lib/python3.10/dist-packages (from requests->lightfm) (3.3.2)\n",
            "Requirement already satisfied: idna<4,>=2.5 in /usr/local/lib/python3.10/dist-packages (from requests->lightfm) (3.6)\n",
            "Requirement already satisfied: urllib3<3,>=1.21.1 in /usr/local/lib/python3.10/dist-packages (from requests->lightfm) (2.0.7)\n",
            "Requirement already satisfied: certifi>=2017.4.17 in /usr/local/lib/python3.10/dist-packages (from requests->lightfm) (2023.11.17)\n",
            "Requirement already satisfied: joblib>=1.1.1 in /usr/local/lib/python3.10/dist-packages (from scikit-learn->lightfm) (1.3.2)\n",
            "Requirement already satisfied: threadpoolctl>=2.0.0 in /usr/local/lib/python3.10/dist-packages (from scikit-learn->lightfm) (3.2.0)\n",
            "Requirement already satisfied: rectools in /usr/local/lib/python3.10/dist-packages (0.4.2)\n",
            "Requirement already satisfied: attrs<24.0.0,>=19.1.0 in /usr/local/lib/python3.10/dist-packages (from rectools) (23.1.0)\n",
            "Requirement already satisfied: implicit<0.8.0,>=0.7.1 in /usr/local/lib/python3.10/dist-packages (from rectools) (0.7.2)\n",
            "Requirement already satisfied: numpy<2.0.0,>=1.19.5 in /usr/local/lib/python3.10/dist-packages (from rectools) (1.23.5)\n",
            "Requirement already satisfied: pandas<2.0.0,>=0.25.3 in /usr/local/lib/python3.10/dist-packages (from rectools) (1.5.3)\n",
            "Requirement already satisfied: scipy<2.0.0,>=1.5.4 in /usr/local/lib/python3.10/dist-packages (from rectools) (1.11.4)\n",
            "Requirement already satisfied: tqdm<5.0.0,>=4.27.0 in /usr/local/lib/python3.10/dist-packages (from rectools) (4.66.1)\n",
            "Requirement already satisfied: typeguard<3.0.0,>=2.0.1 in /usr/local/lib/python3.10/dist-packages (from rectools) (2.13.3)\n",
            "Requirement already satisfied: threadpoolctl in /usr/local/lib/python3.10/dist-packages (from implicit<0.8.0,>=0.7.1->rectools) (3.2.0)\n",
            "Requirement already satisfied: python-dateutil>=2.8.1 in /usr/local/lib/python3.10/dist-packages (from pandas<2.0.0,>=0.25.3->rectools) (2.8.2)\n",
            "Requirement already satisfied: pytz>=2020.1 in /usr/local/lib/python3.10/dist-packages (from pandas<2.0.0,>=0.25.3->rectools) (2023.3.post1)\n",
            "Requirement already satisfied: six>=1.5 in /usr/local/lib/python3.10/dist-packages (from python-dateutil>=2.8.1->pandas<2.0.0,>=0.25.3->rectools) (1.16.0)\n",
            "Requirement already satisfied: catboost in /usr/local/lib/python3.10/dist-packages (1.2.2)\n",
            "Requirement already satisfied: graphviz in /usr/local/lib/python3.10/dist-packages (from catboost) (0.20.1)\n",
            "Requirement already satisfied: matplotlib in /usr/local/lib/python3.10/dist-packages (from catboost) (3.7.1)\n",
            "Requirement already satisfied: numpy>=1.16.0 in /usr/local/lib/python3.10/dist-packages (from catboost) (1.23.5)\n",
            "Requirement already satisfied: pandas>=0.24 in /usr/local/lib/python3.10/dist-packages (from catboost) (1.5.3)\n",
            "Requirement already satisfied: scipy in /usr/local/lib/python3.10/dist-packages (from catboost) (1.11.4)\n",
            "Requirement already satisfied: plotly in /usr/local/lib/python3.10/dist-packages (from catboost) (5.15.0)\n",
            "Requirement already satisfied: six in /usr/local/lib/python3.10/dist-packages (from catboost) (1.16.0)\n",
            "Requirement already satisfied: python-dateutil>=2.8.1 in /usr/local/lib/python3.10/dist-packages (from pandas>=0.24->catboost) (2.8.2)\n",
            "Requirement already satisfied: pytz>=2020.1 in /usr/local/lib/python3.10/dist-packages (from pandas>=0.24->catboost) (2023.3.post1)\n",
            "Requirement already satisfied: contourpy>=1.0.1 in /usr/local/lib/python3.10/dist-packages (from matplotlib->catboost) (1.2.0)\n",
            "Requirement already satisfied: cycler>=0.10 in /usr/local/lib/python3.10/dist-packages (from matplotlib->catboost) (0.12.1)\n",
            "Requirement already satisfied: fonttools>=4.22.0 in /usr/local/lib/python3.10/dist-packages (from matplotlib->catboost) (4.46.0)\n",
            "Requirement already satisfied: kiwisolver>=1.0.1 in /usr/local/lib/python3.10/dist-packages (from matplotlib->catboost) (1.4.5)\n",
            "Requirement already satisfied: packaging>=20.0 in /usr/local/lib/python3.10/dist-packages (from matplotlib->catboost) (23.2)\n",
            "Requirement already satisfied: pillow>=6.2.0 in /usr/local/lib/python3.10/dist-packages (from matplotlib->catboost) (9.4.0)\n",
            "Requirement already satisfied: pyparsing>=2.3.1 in /usr/local/lib/python3.10/dist-packages (from matplotlib->catboost) (3.1.1)\n",
            "Requirement already satisfied: tenacity>=6.2.0 in /usr/local/lib/python3.10/dist-packages (from plotly->catboost) (8.2.3)\n"
          ]
        }
      ]
    },
    {
      "cell_type": "code",
      "execution_count": null,
      "metadata": {
        "id": "U3XTGre5a3qo"
      },
      "outputs": [],
      "source": [
        "import warnings\n",
        "warnings.simplefilter('ignore')\n",
        "\n",
        "import numpy as np\n",
        "import pandas as pd\n",
        "import requests\n",
        "import shap\n",
        "import zipfile as zf\n",
        "import pickle\n",
        "\n",
        "from typing import Callable, Dict, Set, List, Optional, Any, Tuple\n",
        "from scipy.sparse import csr_matrix\n",
        "from lightfm import LightFM\n",
        "from rectools.dataset import Dataset\n",
        "from lightgbm import LGBMRanker, LGBMClassifier\n",
        "from rectools.metrics import calc_metrics, NDCG, MAP, Precision, Recall, MeanInvUserFreq\n",
        "from rectools import Columns\n",
        "from sklearn.metrics import roc_auc_score\n",
        "from sklearn.model_selection import train_test_split\n",
        "from tqdm.auto import tqdm\n",
        "from catboost import CatBoostRanker, Pool\n"
      ]
    },
    {
      "cell_type": "code",
      "source": [
        "from google.colab import drive\n",
        "drive.mount('/content/drive')"
      ],
      "metadata": {
        "colab": {
          "base_uri": "https://localhost:8080/"
        },
        "id": "-vO38lS_MDmb",
        "outputId": "2156acd9-670a-48bf-e4af-320ce33e0b7a"
      },
      "execution_count": null,
      "outputs": [
        {
          "output_type": "stream",
          "name": "stdout",
          "text": [
            "Drive already mounted at /content/drive; to attempt to forcibly remount, call drive.mount(\"/content/drive\", force_remount=True).\n"
          ]
        }
      ]
    },
    {
      "cell_type": "code",
      "execution_count": 1,
      "metadata": {
        "id": "oAW8H-2va3rI"
      },
      "outputs": [],
      "source": [
        "\n",
        "cols = [\n",
        "    'score_lightfm', 'rank_lightfm', 'score_pop', 'rank_pop',\n",
        "    'age', 'income', 'sex', 'kids_flg', 'user_hist', 'user_avg_pop', 'user_last_pop',\n",
        "    'content_type', 'release_year', 'for_kids', 'age_rating', 'studios', 'item_pop', 'item_avg_hist',\n",
        "]\n",
        "cat_cols = [\n",
        "    'age', 'income', 'sex', 'kids_flg',\n",
        "    'content_type', 'for_kids', 'studios',\n",
        "]"
      ]
    },
    {
      "cell_type": "code",
      "source": [
        "for name in [\"train\", \"val\", \"test\"]:\n",
        "    path: str = f\"/content/drive/ranker_{name}.csv\"\n",
        "    locals()[f\"ranker_{name}\"] = pd.read_csv(path)"
      ],
      "metadata": {
        "id": "bvLH7EyKUOVB"
      },
      "execution_count": null,
      "outputs": []
    },
    {
      "cell_type": "code",
      "source": [
        "def add_target(df: pd.DataFrame) -> pd.DataFrame:\n",
        "\n",
        "    df['target_ranker'] = (df[Columns.Weight] >= 15).astype(int)\n",
        "    df['target_ranker'] += (df[Columns.Weight] >= 75).astype(int)\n",
        "    return df\n",
        "\n",
        "ranker_train = add_target(ranker_train)\n",
        "ranker_val = add_target(ranker_val)\n",
        "ranker_test = add_target(ranker_test)"
      ],
      "metadata": {
        "id": "2SFLxBO9PU8y"
      },
      "execution_count": 3,
      "outputs": []
    },
    {
      "cell_type": "code",
      "source": [
        "X_train = ranker_train[cols]\n",
        "y_train = ranker_train['target_ranker']\n",
        "\n",
        "X_val = ranker_val[cols]\n",
        "y_val = ranker_val['target_ranker']\n",
        "\n",
        "train_pool = Pool(X_train, label=y_train, group_id= ranker_train['user_id'])\n",
        "val_pool = Pool(X_val, label=y_val, group_id= ranker_val['user_id'])\n",
        "\n",
        "params = {\n",
        "    'iterations': 1,\n",
        "    'learning_rate': 0.12,\n",
        "    'depth': 8,\n",
        "    'loss_function': 'YetiRank',\n",
        "    'custom_metric': ['NDCG:top=10'],\n",
        "    'random_seed': 42,\n",
        "}\n",
        "\n",
        "catboost_ranker_model = CatBoostRanker(**params)\n",
        "catboost_ranker_model.fit(train_pool, eval_set=val_pool, use_best_model=True, plot=True)"
      ],
      "metadata": {
        "colab": {
          "base_uri": "https://localhost:8080/",
          "height": 277,
          "referenced_widgets": [
            "07fc4422b19d43e988ce255e5de3ec8e"
          ]
        },
        "id": "9patJMN7E8Mu",
        "outputId": "64c227d5-303a-41cd-dc9f-c4c7998b951d"
      },
      "execution_count": null,
      "outputs": [
        {
          "output_type": "display_data",
          "data": {
            "text/plain": [
              "MetricVisualizer(layout=Layout(align_self='stretch', height='500px'))"
            ],
            "application/vnd.jupyter.widget-view+json": {
              "version_major": 2,
              "version_minor": 0,
              "model_id": "07fc4422b19d43e988ce255e5de3ec8e"
            }
          },
          "metadata": {}
        },
        {
          "output_type": "stream",
          "name": "stdout",
          "text": [
            "0:\ttest: 0.7963706\tbest: 0.7963706 (0)\ttotal: 9.68s\tremaining: 1m 27s\n",
            "1:\ttest: 0.7976028\tbest: 0.7976028 (1)\ttotal: 20.8s\tremaining: 1m 23s\n",
            "2:\ttest: 0.8000425\tbest: 0.8000425 (2)\ttotal: 32.2s\tremaining: 1m 15s\n",
            "3:\ttest: 0.8001674\tbest: 0.8001674 (3)\ttotal: 41.1s\tremaining: 1m 1s\n",
            "4:\ttest: 0.8003456\tbest: 0.8003456 (4)\ttotal: 53.2s\tremaining: 53.2s\n",
            "5:\ttest: 0.8011107\tbest: 0.8011107 (5)\ttotal: 1m 4s\tremaining: 43.1s\n",
            "6:\ttest: 0.8011167\tbest: 0.8011167 (6)\ttotal: 1m 13s\tremaining: 31.6s\n",
            "7:\ttest: 0.8015994\tbest: 0.8015994 (7)\ttotal: 1m 24s\tremaining: 21.2s\n",
            "8:\ttest: 0.8144637\tbest: 0.8144637 (8)\ttotal: 1m 37s\tremaining: 10.8s\n",
            "9:\ttest: 0.8144715\tbest: 0.8144715 (9)\ttotal: 1m 49s\tremaining: 0us\n",
            "\n",
            "bestTest = 0.8144714803\n",
            "bestIteration = 9\n",
            "\n"
          ]
        },
        {
          "output_type": "execute_result",
          "data": {
            "text/plain": [
              "<catboost.core.CatBoostRanker at 0x7abf18126ec0>"
            ]
          },
          "metadata": {},
          "execution_count": 7
        }
      ]
    },
    {
      "cell_type": "code",
      "source": [
        "ranker = pd.concat([ranker_train,ranker_val,ranker_test])"
      ],
      "metadata": {
        "id": "c5evLRs9YmWd"
      },
      "execution_count": null,
      "outputs": []
    },
    {
      "cell_type": "code",
      "source": [
        "ranker_sorted = ranker.sort_values(by=['user_id'])\n",
        "\n",
        "ranker_pool = Pool(ranker_sorted[cols], group_id=ranker_sorted['user_id'])\n",
        "\n",
        "preds = catboost_ranker_model.predict(ranker_pool)\n"
      ],
      "metadata": {
        "id": "G4gzVB0aE8Pq"
      },
      "execution_count": null,
      "outputs": []
    },
    {
      "cell_type": "code",
      "source": [
        "preds"
      ],
      "metadata": {
        "id": "mdRwuWckE1Uz"
      },
      "execution_count": null,
      "outputs": []
    },
    {
      "cell_type": "code",
      "source": [],
      "metadata": {
        "id": "8UTort72E1Xp"
      },
      "execution_count": null,
      "outputs": []
    }
  ]
}