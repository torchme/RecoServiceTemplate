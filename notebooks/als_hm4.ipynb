{
 "cells": [
  {
   "cell_type": "code",
   "execution_count": 1,
   "metadata": {},
   "outputs": [
    {
     "name": "stderr",
     "output_type": "stream",
     "text": [
      "/home/kartushov/pet_projects/itmo/itmo.recsys/RecoServiceTemplate/.venv/lib/python3.10/site-packages/tqdm/auto.py:21: TqdmWarning: IProgress not found. Please update jupyter and ipywidgets. See https://ipywidgets.readthedocs.io/en/stable/user_install.html\n",
      "  from .autonotebook import tqdm as notebook_tqdm\n",
      "/home/kartushov/pet_projects/itmo/itmo.recsys/RecoServiceTemplate/.venv/lib/python3.10/site-packages/implicit/gpu/__init__.py:13: UserWarning: CUDA extension is built, but disabling GPU support because of 'Cuda Error: no CUDA-capable device is detected (/project/./implicit/gpu/utils.h:71)'\n",
      "  warnings.warn(\n"
     ]
    }
   ],
   "source": [
    "import pandas as pd\n",
    "import numpy as np\n",
    "import optuna\n",
    "\n",
    "\n",
    "from implicit.als import AlternatingLeastSquares\n",
    "\n",
    "# Not compatible with rectools wrapper\n",
    "# from implicit.approximate_als import (\n",
    "#     AnnoyAlternatingLeastSquares,\n",
    "#     FaissAlternatingLeastSquares,\n",
    "# )\n",
    "\n",
    "from rectools.metrics import MAP, calc_metrics\n",
    "from rectools import Columns\n",
    "from rectools.dataset import Dataset\n",
    "from rectools.models import ImplicitALSWrapperModel\n",
    "from pathlib import Path"
   ]
  },
  {
   "cell_type": "code",
   "execution_count": 2,
   "metadata": {},
   "outputs": [],
   "source": [
    "DATA_PATH = Path(\"../data\")\n",
    "Columns.Datetime = \"last_watch_dt\"\n",
    "\n",
    "users = pd.read_csv(DATA_PATH / \"users.csv\")\n",
    "items = pd.read_csv(DATA_PATH / \"items.csv\")\n",
    "interactions = pd.read_csv(DATA_PATH / \"interactions.csv\").iloc[:100_000]"
   ]
  },
  {
   "cell_type": "code",
   "execution_count": 3,
   "metadata": {},
   "outputs": [
    {
     "name": "stdout",
     "output_type": "stream",
     "text": [
      "train: (91015, 6)\n",
      "test: (8985, 6)\n"
     ]
    }
   ],
   "source": [
    "interactions[Columns.Datetime] = pd.to_datetime(interactions[Columns.Datetime], format=\"%Y-%m-%d\")\n",
    "interactions[Columns.Weight] = np.where(interactions[\"watched_pct\"] > 10, 3, 1)\n",
    "max_date = interactions[Columns.Datetime].max()\n",
    "train = interactions[interactions[Columns.Datetime] < max_date - pd.Timedelta(days=7)].copy()\n",
    "test = interactions[interactions[Columns.Datetime] >= max_date - pd.Timedelta(days=7)].copy()\n",
    "\n",
    "print(f\"train: {train.shape}\")\n",
    "print(f\"test: {test.shape}\")"
   ]
  },
  {
   "cell_type": "code",
   "execution_count": 4,
   "metadata": {},
   "outputs": [],
   "source": [
    "train.drop(train.query(\"total_dur < 300\").index, inplace=True)\n",
    "cold_users = set(test[Columns.User]) - set(train[Columns.User])\n",
    "test.drop(test[test[Columns.User].isin(cold_users)].index, inplace=True)\n"
   ]
  },
  {
   "cell_type": "code",
   "execution_count": 5,
   "metadata": {},
   "outputs": [],
   "source": [
    "dataset = Dataset.construct(interactions_df=train)"
   ]
  },
  {
   "cell_type": "code",
   "execution_count": 6,
   "metadata": {},
   "outputs": [],
   "source": [
    "K_RECOS = 10"
   ]
  },
  {
   "cell_type": "code",
   "execution_count": 7,
   "metadata": {},
   "outputs": [],
   "source": [
    "metrics_name = {\n",
    "    \"MAP\": MAP,\n",
    "}\n",
    "metrics = {f\"{metric_name}@{K_RECOS}\": metric(k=K_RECOS) for metric_name, metric in metrics_name.items()}"
   ]
  },
  {
   "cell_type": "code",
   "execution_count": 8,
   "metadata": {},
   "outputs": [
    {
     "name": "stderr",
     "output_type": "stream",
     "text": [
      "[I 2023-12-12 18:21:44,577] A new study created in memory with name: no-name-fe6c15c7-68ea-4366-914e-bc236b83354e\n"
     ]
    }
   ],
   "source": [
    "def objective(trial, dataset, train, test):\n",
    "    n_factors = trial.suggest_categorical(\"n_factors\", (5, 10, 25, 50, 100, 200))\n",
    "    regularizations = trial.suggest_categorical(\"regularization\", (0.01, 0.05, 0.1))\n",
    "    iterations = trial.suggest_categorical(\"iterations\", (5, 10, 25, 100))\n",
    "\n",
    "    als_model = AlternatingLeastSquares(\n",
    "        factors=n_factors,\n",
    "        regularization=regularizations,\n",
    "        random_state=42,\n",
    "        iterations=iterations,\n",
    "    )\n",
    "\n",
    "    model = ImplicitALSWrapperModel(\n",
    "        model=als_model,\n",
    "    )\n",
    "\n",
    "    model.fit(dataset)\n",
    "    recs = model.recommend(\n",
    "        users=test[Columns.User].unique(),\n",
    "        dataset=dataset,\n",
    "        k=K_RECOS,\n",
    "        filter_viewed=True,\n",
    "    )\n",
    "    metrics_vals = calc_metrics(metrics, recs, test, train)\n",
    "    return metrics_vals[\"MAP@10\"]\n",
    "\n",
    "\n",
    "study = optuna.create_study(direction=\"maximize\")\n",
    "\n"
   ]
  },
  {
   "cell_type": "code",
   "execution_count": 9,
   "metadata": {},
   "outputs": [
    {
     "name": "stderr",
     "output_type": "stream",
     "text": [
      "/home/kartushov/pet_projects/itmo/itmo.recsys/RecoServiceTemplate/.venv/lib/python3.10/site-packages/implicit/cpu/als.py:95: RuntimeWarning: OpenBLAS is configured to use 12 threads. It is highly recommended to disable its internal threadpool by setting the environment variable 'OPENBLAS_NUM_THREADS=1' or by calling 'threadpoolctl.threadpool_limits(1, \"blas\")'. Having OpenBLAS use a threadpool can lead to severe performance issues here.\n",
      "  check_blas_config()\n",
      "[I 2023-12-12 18:21:57,528] Trial 0 finished with value: 0.003258327451875839 and parameters: {'n_factors': 100, 'regularization': 0.05, 'iterations': 10}. Best is trial 0 with value: 0.003258327451875839.\n",
      "[I 2023-12-12 18:22:07,883] Trial 1 finished with value: 0.011019083599728762 and parameters: {'n_factors': 10, 'regularization': 0.1, 'iterations': 25}. Best is trial 1 with value: 0.011019083599728762.\n",
      "[I 2023-12-12 18:22:36,113] Trial 2 finished with value: 0.017357218970122195 and parameters: {'n_factors': 5, 'regularization': 0.05, 'iterations': 100}. Best is trial 2 with value: 0.017357218970122195.\n",
      "[I 2023-12-12 18:23:30,374] Trial 3 finished with value: 0.00766751774816291 and parameters: {'n_factors': 25, 'regularization': 0.1, 'iterations': 100}. Best is trial 2 with value: 0.017357218970122195.\n",
      "[I 2023-12-12 18:24:36,749] Trial 4 finished with value: 0.0066969042775494375 and parameters: {'n_factors': 50, 'regularization': 0.1, 'iterations': 100}. Best is trial 2 with value: 0.017357218970122195.\n",
      "[I 2023-12-12 18:24:47,582] Trial 5 finished with value: 0.0037731279666763534 and parameters: {'n_factors': 100, 'regularization': 0.01, 'iterations': 10}. Best is trial 2 with value: 0.017357218970122195.\n",
      "[I 2023-12-12 18:24:56,815] Trial 6 finished with value: 0.010545453287388772 and parameters: {'n_factors': 10, 'regularization': 0.01, 'iterations': 25}. Best is trial 2 with value: 0.017357218970122195.\n",
      "[I 2023-12-12 18:25:10,631] Trial 7 finished with value: 0.003258327451875839 and parameters: {'n_factors': 100, 'regularization': 0.05, 'iterations': 10}. Best is trial 2 with value: 0.017357218970122195.\n",
      "[I 2023-12-12 18:25:19,181] Trial 8 finished with value: 0.006490361329071006 and parameters: {'n_factors': 50, 'regularization': 0.01, 'iterations': 10}. Best is trial 2 with value: 0.017357218970122195.\n",
      "[I 2023-12-12 18:25:28,922] Trial 9 finished with value: 0.0016710258645742516 and parameters: {'n_factors': 200, 'regularization': 0.1, 'iterations': 5}. Best is trial 2 with value: 0.017357218970122195.\n",
      "[I 2023-12-12 18:25:55,937] Trial 10 finished with value: 0.017357218970122195 and parameters: {'n_factors': 5, 'regularization': 0.05, 'iterations': 100}. Best is trial 2 with value: 0.017357218970122195.\n",
      "[I 2023-12-12 18:26:24,105] Trial 11 finished with value: 0.017357218970122195 and parameters: {'n_factors': 5, 'regularization': 0.05, 'iterations': 100}. Best is trial 2 with value: 0.017357218970122195.\n",
      "[I 2023-12-12 18:26:51,976] Trial 12 finished with value: 0.017357218970122195 and parameters: {'n_factors': 5, 'regularization': 0.05, 'iterations': 100}. Best is trial 2 with value: 0.017357218970122195.\n",
      "[I 2023-12-12 18:27:19,180] Trial 13 finished with value: 0.017357218970122195 and parameters: {'n_factors': 5, 'regularization': 0.05, 'iterations': 100}. Best is trial 2 with value: 0.017357218970122195.\n",
      "[I 2023-12-12 18:27:20,912] Trial 14 finished with value: 0.017697997536707217 and parameters: {'n_factors': 5, 'regularization': 0.05, 'iterations': 5}. Best is trial 14 with value: 0.017697997536707217.\n",
      "[I 2023-12-12 18:27:22,587] Trial 15 finished with value: 0.017697997536707217 and parameters: {'n_factors': 5, 'regularization': 0.05, 'iterations': 5}. Best is trial 14 with value: 0.017697997536707217.\n",
      "[I 2023-12-12 18:27:32,883] Trial 16 finished with value: 0.0018101050359114873 and parameters: {'n_factors': 200, 'regularization': 0.05, 'iterations': 5}. Best is trial 14 with value: 0.017697997536707217.\n",
      "[I 2023-12-12 18:27:35,733] Trial 17 finished with value: 0.008131979906173455 and parameters: {'n_factors': 25, 'regularization': 0.05, 'iterations': 5}. Best is trial 14 with value: 0.017697997536707217.\n",
      "[I 2023-12-12 18:27:37,611] Trial 18 finished with value: 0.017697997536707217 and parameters: {'n_factors': 5, 'regularization': 0.05, 'iterations': 5}. Best is trial 14 with value: 0.017697997536707217.\n",
      "[I 2023-12-12 18:27:39,515] Trial 19 finished with value: 0.015260306389338646 and parameters: {'n_factors': 5, 'regularization': 0.01, 'iterations': 5}. Best is trial 14 with value: 0.017697997536707217.\n",
      "[I 2023-12-12 18:27:41,214] Trial 20 finished with value: 0.017697997536707217 and parameters: {'n_factors': 5, 'regularization': 0.05, 'iterations': 5}. Best is trial 14 with value: 0.017697997536707217.\n",
      "[I 2023-12-12 18:27:42,859] Trial 21 finished with value: 0.017697997536707217 and parameters: {'n_factors': 5, 'regularization': 0.05, 'iterations': 5}. Best is trial 14 with value: 0.017697997536707217.\n",
      "[I 2023-12-12 18:27:44,586] Trial 22 finished with value: 0.017697997536707217 and parameters: {'n_factors': 5, 'regularization': 0.05, 'iterations': 5}. Best is trial 14 with value: 0.017697997536707217.\n",
      "[I 2023-12-12 18:27:46,257] Trial 23 finished with value: 0.017697997536707217 and parameters: {'n_factors': 5, 'regularization': 0.05, 'iterations': 5}. Best is trial 14 with value: 0.017697997536707217.\n",
      "[I 2023-12-12 18:27:47,986] Trial 24 finished with value: 0.017697997536707217 and parameters: {'n_factors': 5, 'regularization': 0.05, 'iterations': 5}. Best is trial 14 with value: 0.017697997536707217.\n",
      "[I 2023-12-12 18:27:50,423] Trial 25 finished with value: 0.010964247657796045 and parameters: {'n_factors': 10, 'regularization': 0.05, 'iterations': 5}. Best is trial 14 with value: 0.017697997536707217.\n",
      "[I 2023-12-12 18:28:39,258] Trial 26 finished with value: 0.003572466475692282 and parameters: {'n_factors': 200, 'regularization': 0.05, 'iterations': 25}. Best is trial 14 with value: 0.017697997536707217.\n",
      "[I 2023-12-12 18:28:42,281] Trial 27 finished with value: 0.008131979906173455 and parameters: {'n_factors': 25, 'regularization': 0.05, 'iterations': 5}. Best is trial 14 with value: 0.017697997536707217.\n",
      "[I 2023-12-12 18:28:46,379] Trial 28 finished with value: 0.00824476550283002 and parameters: {'n_factors': 50, 'regularization': 0.1, 'iterations': 5}. Best is trial 14 with value: 0.017697997536707217.\n",
      "[I 2023-12-12 18:28:52,470] Trial 29 finished with value: 0.003582845518329389 and parameters: {'n_factors': 100, 'regularization': 0.01, 'iterations': 5}. Best is trial 14 with value: 0.017697997536707217.\n",
      "[I 2023-12-12 18:28:54,184] Trial 30 finished with value: 0.017697997536707217 and parameters: {'n_factors': 5, 'regularization': 0.05, 'iterations': 5}. Best is trial 14 with value: 0.017697997536707217.\n",
      "[I 2023-12-12 18:28:56,088] Trial 31 finished with value: 0.017697997536707217 and parameters: {'n_factors': 5, 'regularization': 0.05, 'iterations': 5}. Best is trial 14 with value: 0.017697997536707217.\n",
      "[I 2023-12-12 18:28:57,768] Trial 32 finished with value: 0.017697997536707217 and parameters: {'n_factors': 5, 'regularization': 0.05, 'iterations': 5}. Best is trial 14 with value: 0.017697997536707217.\n",
      "[I 2023-12-12 18:29:04,752] Trial 33 finished with value: 0.017265191458739847 and parameters: {'n_factors': 5, 'regularization': 0.05, 'iterations': 25}. Best is trial 14 with value: 0.017697997536707217.\n",
      "[I 2023-12-12 18:29:06,332] Trial 34 finished with value: 0.017697997536707217 and parameters: {'n_factors': 5, 'regularization': 0.05, 'iterations': 5}. Best is trial 14 with value: 0.017697997536707217.\n",
      "[I 2023-12-12 18:29:08,607] Trial 35 finished with value: 0.009184241845532168 and parameters: {'n_factors': 10, 'regularization': 0.1, 'iterations': 5}. Best is trial 14 with value: 0.017697997536707217.\n",
      "[I 2023-12-12 18:29:11,590] Trial 36 finished with value: 0.01775283347863993 and parameters: {'n_factors': 5, 'regularization': 0.05, 'iterations': 10}. Best is trial 36 with value: 0.01775283347863993.\n",
      "[I 2023-12-12 18:29:16,917] Trial 37 finished with value: 0.009550276082534146 and parameters: {'n_factors': 25, 'regularization': 0.05, 'iterations': 10}. Best is trial 36 with value: 0.01775283347863993.\n",
      "[I 2023-12-12 18:29:24,416] Trial 38 finished with value: 0.007319646835775868 and parameters: {'n_factors': 50, 'regularization': 0.1, 'iterations': 10}. Best is trial 36 with value: 0.01775283347863993.\n",
      "[I 2023-12-12 18:29:35,358] Trial 39 finished with value: 0.0037731279666763534 and parameters: {'n_factors': 100, 'regularization': 0.01, 'iterations': 10}. Best is trial 36 with value: 0.01775283347863993.\n",
      "[I 2023-12-12 18:29:38,333] Trial 40 finished with value: 0.01775283347863993 and parameters: {'n_factors': 5, 'regularization': 0.05, 'iterations': 10}. Best is trial 36 with value: 0.01775283347863993.\n",
      "[I 2023-12-12 18:29:41,528] Trial 41 finished with value: 0.01775283347863993 and parameters: {'n_factors': 5, 'regularization': 0.05, 'iterations': 10}. Best is trial 36 with value: 0.01775283347863993.\n",
      "[I 2023-12-12 18:29:44,595] Trial 42 finished with value: 0.01775283347863993 and parameters: {'n_factors': 5, 'regularization': 0.05, 'iterations': 10}. Best is trial 36 with value: 0.01775283347863993.\n",
      "[I 2023-12-12 18:29:47,887] Trial 43 finished with value: 0.01775283347863993 and parameters: {'n_factors': 5, 'regularization': 0.05, 'iterations': 10}. Best is trial 36 with value: 0.01775283347863993.\n",
      "[I 2023-12-12 18:29:50,954] Trial 44 finished with value: 0.01775283347863993 and parameters: {'n_factors': 5, 'regularization': 0.05, 'iterations': 10}. Best is trial 36 with value: 0.01775283347863993.\n",
      "[I 2023-12-12 18:29:55,439] Trial 45 finished with value: 0.010229930391220714 and parameters: {'n_factors': 10, 'regularization': 0.05, 'iterations': 10}. Best is trial 36 with value: 0.01775283347863993.\n",
      "[I 2023-12-12 18:30:14,567] Trial 46 finished with value: 0.0036492713912068754 and parameters: {'n_factors': 200, 'regularization': 0.1, 'iterations': 10}. Best is trial 36 with value: 0.01775283347863993.\n",
      "[I 2023-12-12 18:30:17,657] Trial 47 finished with value: 0.01775283347863993 and parameters: {'n_factors': 5, 'regularization': 0.05, 'iterations': 10}. Best is trial 36 with value: 0.01775283347863993.\n",
      "[I 2023-12-12 18:30:20,884] Trial 48 finished with value: 0.018981539142829466 and parameters: {'n_factors': 5, 'regularization': 0.01, 'iterations': 10}. Best is trial 48 with value: 0.018981539142829466.\n",
      "[I 2023-12-12 18:30:29,208] Trial 49 finished with value: 0.006490361329071006 and parameters: {'n_factors': 50, 'regularization': 0.01, 'iterations': 10}. Best is trial 48 with value: 0.018981539142829466.\n"
     ]
    }
   ],
   "source": [
    "study.optimize(lambda trial: objective(trial, dataset, train, test), n_trials=50)"
   ]
  },
  {
   "cell_type": "code",
   "execution_count": 10,
   "metadata": {},
   "outputs": [
    {
     "name": "stdout",
     "output_type": "stream",
     "text": [
      "{'n_factors': 5, 'regularization': 0.01, 'iterations': 10} 0.018981539142829466\n"
     ]
    }
   ],
   "source": [
    "best_params = study.best_params\n",
    "best_value = study.best_value\n",
    "print(best_params, best_value)"
   ]
  },
  {
   "cell_type": "code",
   "execution_count": null,
   "metadata": {},
   "outputs": [],
   "source": []
  }
 ],
 "metadata": {
  "kernelspec": {
   "display_name": "Python 3.10.5 ('.venv': poetry)",
   "language": "python",
   "name": "python3"
  },
  "language_info": {
   "codemirror_mode": {
    "name": "ipython",
    "version": 3
   },
   "file_extension": ".py",
   "mimetype": "text/x-python",
   "name": "python",
   "nbconvert_exporter": "python",
   "pygments_lexer": "ipython3",
   "version": "3.10.5"
  },
  "orig_nbformat": 4,
  "vscode": {
   "interpreter": {
    "hash": "67b535036947e74c085a4aadcefc9f79258af3bc3b204eef7c6c9c0865dc5f6e"
   }
  }
 },
 "nbformat": 4,
 "nbformat_minor": 2
}
