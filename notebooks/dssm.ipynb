{
  "cells": [
    {
      "cell_type": "code",
      "execution_count": null,
      "id": "8bacce1f",
      "metadata": {},
      "outputs": [],
      "source": [
        "!pip install tensorflow"
      ]
    },
    {
      "cell_type": "code",
      "execution_count": null,
      "id": "73d9fa3b",
      "metadata": {
        "ExecuteTime": {
          "end_time": "2021-10-28T18:39:51.562051Z",
          "start_time": "2021-10-28T18:39:49.474990Z"
        },
        "id": "73d9fa3b"
      },
      "outputs": [],
      "source": [
        "import ast\n",
        "import json\n",
        "import matplotlib.pyplot as plt\n",
        "import numpy as np\n",
        "import os\n",
        "import pandas as pd\n",
        "import pickle\n",
        "import tensorflow as tf\n",
        "import tensorflow.keras.backend as K\n",
        "from itertools import islice, cycle\n",
        "import warnings\n",
        "warnings.filterwarnings('ignore')\n",
        "\n",
        "from collections import Counter\n",
        "from random import randint, random\n",
        "from scipy.sparse import coo_matrix, hstack\n",
        "from sklearn.metrics.pairwise import euclidean_distances, cosine_distances, cosine_similarity\n",
        "from sklearn.feature_extraction.text import TfidfVectorizer\n",
        "from tensorflow import keras\n",
        "from tqdm import tqdm\n",
        "\n"
      ]
    },
    {
      "cell_type": "code",
      "execution_count": null,
      "id": "25508632",
      "metadata": {
        "ExecuteTime": {
          "end_time": "2021-10-28T18:39:51.661446Z",
          "start_time": "2021-10-28T18:39:51.563879Z"
        },
        "id": "25508632"
      },
      "outputs": [],
      "source": [
        "interactions_df = pd.read_csv('/content/drive/MyDrive/Colab Notebooks/ИТМО/Recsys/5/interactions_processed_kion.csv')\n",
        "users_df = pd.read_csv('/content/drive/MyDrive/Colab Notebooks/ИТМО/Recsys/5/users_processed_kion.csv')\n",
        "items_df = pd.read_csv('/content/drive/MyDrive/Colab Notebooks/ИТМО/Recsys/5/items_processed_kion.csv')"
      ]
    },
    {
      "cell_type": "code",
      "execution_count": null,
      "id": "f5eacb31",
      "metadata": {
        "ExecuteTime": {
          "end_time": "2021-10-28T18:40:35.447336Z",
          "start_time": "2021-10-28T18:40:35.434541Z"
        },
        "colab": {
          "base_uri": "https://localhost:8080/",
          "height": 206
        },
        "id": "f5eacb31",
        "outputId": "af3d16d3-c059-43ee-b496-d1bf3ae270df"
      },
      "outputs": [],
      "source": [
        "users_df.head()"
      ]
    },
    {
      "cell_type": "code",
      "execution_count": null,
      "id": "61669d0d",
      "metadata": {
        "ExecuteTime": {
          "end_time": "2021-10-28T18:40:36.103997Z",
          "start_time": "2021-10-28T18:40:36.094699Z"
        },
        "id": "61669d0d"
      },
      "outputs": [],
      "source": [
        "items_df = items_df.rename(columns = {'id' : 'item_id'})"
      ]
    },
    {
      "cell_type": "code",
      "execution_count": null,
      "id": "25f4462e",
      "metadata": {
        "ExecuteTime": {
          "end_time": "2021-10-28T18:40:36.378293Z",
          "start_time": "2021-10-28T18:40:36.370946Z"
        },
        "colab": {
          "base_uri": "https://localhost:8080/",
          "height": 608
        },
        "id": "25f4462e",
        "outputId": "8424953c-f0e6-4c43-c89b-bcb76512b0b6"
      },
      "outputs": [],
      "source": [
        "items_df.head()"
      ]
    },
    {
      "cell_type": "code",
      "execution_count": null,
      "id": "b41964d3",
      "metadata": {
        "ExecuteTime": {
          "end_time": "2021-10-28T18:40:36.607688Z",
          "start_time": "2021-10-28T18:40:36.597640Z"
        },
        "colab": {
          "base_uri": "https://localhost:8080/",
          "height": 206
        },
        "id": "b41964d3",
        "outputId": "fd59405c-6b1d-4a5f-c12e-8bb89b3ea885"
      },
      "outputs": [],
      "source": [
        "interactions_df.head()"
      ]
    },
    {
      "cell_type": "code",
      "execution_count": null,
      "id": "692270ac",
      "metadata": {
        "ExecuteTime": {
          "end_time": "2021-10-28T18:40:37.156260Z",
          "start_time": "2021-10-28T18:40:37.138422Z"
        },
        "colab": {
          "base_uri": "https://localhost:8080/",
          "height": 226
        },
        "id": "692270ac",
        "outputId": "084afa94-1f09-417f-e2b2-72f7cf09c48f"
      },
      "outputs": [],
      "source": [
        "user_cat_feats = [\"age\", \"income\", \"sex\", \"kids_flg\"]\n",
        "users_ohe_df = users_df.user_id\n",
        "for feat in user_cat_feats:\n",
        "    ohe_feat_df = pd.get_dummies(users_df[feat], prefix=feat)\n",
        "    users_ohe_df = pd.concat([users_ohe_df, ohe_feat_df], axis=1)\n",
        "\n",
        "users_ohe_df.head()\n"
      ]
    },
    {
      "cell_type": "code",
      "execution_count": null,
      "id": "-2Wd9upSsCle",
      "metadata": {
        "colab": {
          "base_uri": "https://localhost:8080/",
          "height": 608
        },
        "id": "-2Wd9upSsCle",
        "outputId": "5741e3a7-4d05-459d-d2ef-044485391b4b"
      },
      "outputs": [],
      "source": [
        "items_df.head()"
      ]
    },
    {
      "cell_type": "code",
      "execution_count": null,
      "id": "7a94ef7e",
      "metadata": {
        "ExecuteTime": {
          "end_time": "2021-10-28T18:40:37.792147Z",
          "start_time": "2021-10-28T18:40:37.537501Z"
        },
        "colab": {
          "base_uri": "https://localhost:8080/",
          "height": 377
        },
        "id": "7a94ef7e",
        "outputId": "8e4ea0f6-dc91-444f-bed0-31b7944dab4c"
      },
      "outputs": [],
      "source": [
        "item_cat_feats = ['content_type', 'release_year_cat',\n",
        "                  'for_kids', 'age_rating',\n",
        "                  'studios', 'countries', 'directors']\n",
        "\n",
        "items_ohe_df = items_df.item_id\n",
        "\n",
        "for feat in item_cat_feats:\n",
        "    ohe_feat_df = pd.get_dummies(items_df[feat], prefix=feat)\n",
        "    items_ohe_df = pd.concat([items_ohe_df, ohe_feat_df], axis=1)\n",
        "\n",
        "items_ohe_df.head()"
      ]
    },
    {
      "cell_type": "code",
      "execution_count": null,
      "id": "zqcIWTrQbOve",
      "metadata": {
        "colab": {
          "base_uri": "https://localhost:8080/",
          "height": 565
        },
        "id": "zqcIWTrQbOve",
        "outputId": "8d9623fc-9624-4a06-c5a0-7e6a52224857"
      },
      "outputs": [],
      "source": [
        "vectorizer = TfidfVectorizer()\n",
        "genres_tfidf = vectorizer.fit_transform(items_df['genres'].astype(str))\n",
        "genres_tfidf_df = pd.DataFrame(genres_tfidf.toarray(), columns=vectorizer.get_feature_names_out())\n",
        "items_ohe_df = pd.concat([items_ohe_df, genres_tfidf_df], axis=1)\n",
        "items_ohe_df"
      ]
    },
    {
      "cell_type": "code",
      "execution_count": null,
      "id": "79c9bca3",
      "metadata": {
        "ExecuteTime": {
          "end_time": "2021-10-28T18:40:37.898427Z",
          "start_time": "2021-10-28T18:40:37.864067Z"
        },
        "colab": {
          "base_uri": "https://localhost:8080/"
        },
        "id": "79c9bca3",
        "outputId": "11cf9a93-2ab4-4130-9ed1-5189a7156873"
      },
      "outputs": [],
      "source": [
        "interactions_df.item_id.value_counts()"
      ]
    },
    {
      "cell_type": "code",
      "execution_count": null,
      "id": "076e4ebc",
      "metadata": {
        "ExecuteTime": {
          "end_time": "2021-10-28T18:40:39.717096Z",
          "start_time": "2021-10-28T18:40:38.759740Z"
        },
        "colab": {
          "base_uri": "https://localhost:8080/"
        },
        "id": "076e4ebc",
        "outputId": "ed7fb97d-1fb1-41f8-d183-901c8aff42d2"
      },
      "outputs": [],
      "source": [
        "print(f\"N users before: {interactions_df.user_id.nunique()}\")\n",
        "print(f\"N items before: {interactions_df.item_id.nunique()}\\n\")\n",
        "\n",
        "interactions_df = interactions_df[interactions_df.watched_pct > 10]\n",
        "\n",
        "valid_users = []\n",
        "\n",
        "c = Counter(interactions_df.user_id)\n",
        "for user_id, entries in c.most_common():\n",
        "    if entries > 10:\n",
        "        valid_users.append(user_id)\n",
        "\n",
        "valid_items = []\n",
        "\n",
        "c = Counter(interactions_df.item_id)\n",
        "for item_id, entries in c.most_common():\n",
        "    if entries > 10:\n",
        "        valid_items.append(item_id)\n",
        "\n",
        "interactions_df = interactions_df[interactions_df.user_id.isin(valid_users)]\n",
        "interactions_df = interactions_df[interactions_df.item_id.isin(valid_items)]\n",
        "\n",
        "print(f\"N users after: {interactions_df.user_id.nunique()}\")\n",
        "print(f\"N items after: {interactions_df.item_id.nunique()}\")"
      ]
    },
    {
      "cell_type": "code",
      "execution_count": null,
      "id": "d55848e1",
      "metadata": {
        "ExecuteTime": {
          "end_time": "2021-10-28T18:40:40.231703Z",
          "start_time": "2021-10-28T18:40:39.718626Z"
        },
        "colab": {
          "base_uri": "https://localhost:8080/"
        },
        "id": "d55848e1",
        "outputId": "daa99634-1f79-4827-b7e1-08d696ed43c2"
      },
      "outputs": [],
      "source": [
        "common_users = set(interactions_df.user_id.unique()).intersection(set(users_ohe_df.user_id.unique()))\n",
        "common_items = set(interactions_df.item_id.unique()).intersection(set(items_ohe_df.item_id.unique()))\n",
        "\n",
        "print(len(common_users))\n",
        "print(len(common_items))\n",
        "\n",
        "interactions_df = interactions_df[interactions_df.item_id.isin(common_items)]\n",
        "interactions_df = interactions_df[interactions_df.user_id.isin(common_users)]\n",
        "\n",
        "items_ohe_df = items_ohe_df[items_ohe_df.item_id.isin(common_items)]\n",
        "users_ohe_df = users_ohe_df[users_ohe_df.user_id.isin(common_users)]"
      ]
    },
    {
      "cell_type": "code",
      "execution_count": null,
      "id": "81679fb0",
      "metadata": {
        "ExecuteTime": {
          "end_time": "2021-10-28T18:40:40.346587Z",
          "start_time": "2021-10-28T18:40:40.233046Z"
        },
        "colab": {
          "base_uri": "https://localhost:8080/",
          "height": 241
        },
        "id": "81679fb0",
        "outputId": "90fd7d06-14ea-4445-acab-11ded5ac35f9"
      },
      "outputs": [],
      "source": [
        "interactions_df[\"uid\"] = interactions_df[\"user_id\"].astype(\"category\")\n",
        "interactions_df[\"uid\"] = interactions_df[\"uid\"].cat.codes\n",
        "\n",
        "interactions_df[\"iid\"] = interactions_df[\"item_id\"].astype(\"category\")\n",
        "interactions_df[\"iid\"] = interactions_df[\"iid\"].cat.codes\n",
        "\n",
        "print(sorted(interactions_df.iid.unique())[:5])\n",
        "print(sorted(interactions_df.uid.unique())[:5])\n",
        "interactions_df.head()"
      ]
    },
    {
      "cell_type": "code",
      "execution_count": null,
      "id": "3feced70",
      "metadata": {
        "ExecuteTime": {
          "end_time": "2021-10-28T18:41:03.360248Z",
          "start_time": "2021-10-28T18:40:40.348057Z"
        },
        "id": "3feced70"
      },
      "outputs": [],
      "source": [
        "interactions_vec = np.zeros((interactions_df.uid.nunique(),\n",
        "                             interactions_df.iid.nunique()))\n",
        "\n",
        "for user_id, item_id in zip(interactions_df.uid, interactions_df.iid):\n",
        "    interactions_vec[user_id, item_id] += 1\n",
        "\n",
        "\n",
        "res = interactions_vec.sum(axis=1)\n",
        "for i in range(len(interactions_vec)):\n",
        "    interactions_vec[i] /= res[i]"
      ]
    },
    {
      "cell_type": "code",
      "execution_count": null,
      "id": "9f5ec90f",
      "metadata": {
        "ExecuteTime": {
          "end_time": "2021-10-28T18:41:03.416061Z",
          "start_time": "2021-10-28T18:41:03.363462Z"
        },
        "colab": {
          "base_uri": "https://localhost:8080/"
        },
        "id": "9f5ec90f",
        "outputId": "f41a8eb1-a009-455a-8896-9f578949881a"
      },
      "outputs": [],
      "source": [
        "print(interactions_df.item_id.nunique())\n",
        "print(items_ohe_df.item_id.nunique())\n",
        "print(interactions_df.user_id.nunique())\n",
        "print(users_ohe_df.user_id.nunique())\n",
        "\n",
        "print(set(items_ohe_df.item_id.unique()) - set(interactions_df.item_id.unique()))"
      ]
    },
    {
      "cell_type": "code",
      "execution_count": null,
      "id": "c8a84024",
      "metadata": {
        "ExecuteTime": {
          "end_time": "2021-10-28T18:41:03.637495Z",
          "start_time": "2021-10-28T18:41:03.417544Z"
        },
        "id": "c8a84024"
      },
      "outputs": [],
      "source": [
        "iid_to_item_id = interactions_df[[\"iid\", \"item_id\"]].drop_duplicates().set_index(\"iid\").to_dict()[\"item_id\"]\n",
        "item_id_to_iid = interactions_df[[\"iid\", \"item_id\"]].drop_duplicates().set_index(\"item_id\").to_dict()[\"iid\"]\n",
        "\n",
        "uid_to_user_id = interactions_df[[\"uid\", \"user_id\"]].drop_duplicates().set_index(\"uid\").to_dict()[\"user_id\"]\n",
        "user_id_to_uid = interactions_df[[\"uid\", \"user_id\"]].drop_duplicates().set_index(\"user_id\").to_dict()[\"uid\"]"
      ]
    },
    {
      "cell_type": "code",
      "execution_count": null,
      "id": "4c4980ac",
      "metadata": {
        "ExecuteTime": {
          "end_time": "2021-10-28T18:41:03.744883Z",
          "start_time": "2021-10-28T18:41:03.638719Z"
        },
        "id": "4c4980ac"
      },
      "outputs": [],
      "source": [
        "items_ohe_df[\"iid\"] = items_ohe_df[\"item_id\"].apply(lambda x: item_id_to_iid[x])\n",
        "items_ohe_df = items_ohe_df.set_index(\"iid\")\n",
        "\n",
        "users_ohe_df[\"uid\"] = users_ohe_df[\"user_id\"].apply(lambda x: user_id_to_uid[x])\n",
        "users_ohe_df = users_ohe_df.set_index(\"uid\")"
      ]
    },
    {
      "cell_type": "code",
      "execution_count": null,
      "id": "22c26d39",
      "metadata": {
        "ExecuteTime": {
          "end_time": "2021-10-28T18:41:03.749717Z",
          "start_time": "2021-10-28T18:41:03.746067Z"
        },
        "id": "22c26d39"
      },
      "outputs": [],
      "source": [
        "def triplet_loss(y_true, y_pred, n_dims=128, alpha=0.4):\n",
        "    anchor = y_pred[:, 0:n_dims]\n",
        "    positive = y_pred[:, n_dims:n_dims*2]\n",
        "    negative = y_pred[:, n_dims*2:n_dims*3]\n",
        "    pos_dist = K.sum(K.square(anchor - positive), axis=1)\n",
        "    neg_dist = K.sum(K.square(anchor - negative), axis=1)\n",
        "\n",
        "    basic_loss = pos_dist - neg_dist + alpha\n",
        "    loss = K.maximum(basic_loss, 0.0)\n",
        "\n",
        "    return loss"
      ]
    },
    {
      "cell_type": "code",
      "execution_count": null,
      "id": "7829878b",
      "metadata": {
        "ExecuteTime": {
          "end_time": "2021-10-28T18:41:03.755386Z",
          "start_time": "2021-10-28T18:41:03.750664Z"
        },
        "id": "7829878b"
      },
      "outputs": [],
      "source": [
        "def generator(items, users, interactions, batch_size=1024):\n",
        "    while True:\n",
        "        uid_meta = []\n",
        "        uid_interaction = []\n",
        "        pos = []\n",
        "        neg = []\n",
        "        for _ in range(batch_size):\n",
        "            uid_i = randint(0, interactions.shape[0]-1)\n",
        "            pos_i = np.random.choice(range(interactions.shape[1]), p=interactions[uid_i])\n",
        "            neg_i = np.random.choice(range(interactions.shape[1]))\n",
        "            uid_meta.append(users.iloc[uid_i])\n",
        "            uid_interaction.append(interactions_vec[uid_i])\n",
        "            pos.append(items.iloc[pos_i])\n",
        "            neg.append(items.iloc[neg_i])\n",
        "        yield [np.array(uid_meta), np.array(uid_interaction), np.array(pos), np.array(neg)], [np.array(uid_meta), np.array(uid_interaction)]\n"
      ]
    },
    {
      "cell_type": "code",
      "execution_count": null,
      "id": "T7pdvOGvU3Fv",
      "metadata": {
        "id": "T7pdvOGvU3Fv"
      },
      "outputs": [],
      "source": [
        "def weighted_generator(items, users, interactions, batch_size=1024):\n",
        "    while True:\n",
        "        uid_meta = []\n",
        "        uid_interaction = []\n",
        "        pos = []\n",
        "        neg = []\n",
        "        for _ in range(batch_size):\n",
        "            uid_i = np.random.choice(range(interactions.shape[0]), p=np.sum(interactions, axis=1) / np.sum(interactions))\n",
        "            pos_i = np.random.choice(range(interactions.shape[1]), p=interactions[uid_i] / np.sum(interactions[uid_i]))\n",
        "            neg_i = np.random.choice(range(interactions.shape[1]), p=(1 - interactions[uid_i]) / np.sum(1 - interactions[uid_i]))\n",
        "            uid_meta.append(users.iloc[uid_i])\n",
        "            uid_interaction.append(interactions_vec[uid_i])\n",
        "            pos.append(items.iloc[pos_i])\n",
        "            neg.append(items.iloc[neg_i])\n",
        "\n",
        "        yield [np.array(uid_meta), np.array(uid_interaction), np.array(pos), np.array(neg)], [np.array(uid_meta), np.array(uid_interaction)]\n"
      ]
    },
    {
      "cell_type": "code",
      "execution_count": null,
      "id": "af9d3c3b",
      "metadata": {
        "ExecuteTime": {
          "end_time": "2021-10-28T18:41:16.386864Z",
          "start_time": "2021-10-28T18:41:03.756363Z"
        },
        "colab": {
          "base_uri": "https://localhost:8080/"
        },
        "id": "af9d3c3b",
        "outputId": "f7836c06-0ea1-4816-c84e-3da4ebecce3b"
      },
      "outputs": [],
      "source": [
        "gen = weighted_generator(items=items_ohe_df.drop([\"item_id\"], axis=1),\n",
        "                users=users_ohe_df.drop([\"user_id\"], axis=1),\n",
        "                interactions=interactions_vec)\n",
        "\n",
        "ret = next(gen)\n",
        "\n",
        "print(f\"вектор фичей юзера: {ret[0][0].shape}\")\n",
        "print(f\"вектор взаимодействий юзера с айтемами: {ret[0][1].shape}\")\n",
        "print(f\"вектор 'хорошего' айтема: {ret[0][2].shape}\")\n",
        "print(f\"вектор 'плохого' айтема: {ret[0][3].shape}\")\n",
        "print()\n",
        "print(f\"вектор фичей юзера: {ret[1][0].shape}\")\n",
        "print(f\"вектор взаимодействий юзера с айтемами: {ret[1][1].shape}\")"
      ]
    },
    {
      "cell_type": "code",
      "execution_count": null,
      "id": "967b819f",
      "metadata": {
        "ExecuteTime": {
          "end_time": "2021-10-28T18:41:16.493030Z",
          "start_time": "2021-10-28T18:41:16.388592Z"
        },
        "colab": {
          "base_uri": "https://localhost:8080/"
        },
        "id": "967b819f",
        "outputId": "e8e8ed0a-6bfd-4379-c4fa-18dec285f50b"
      },
      "outputs": [],
      "source": [
        "N_FACTORS = 128\n",
        "\n",
        "ITEM_MODEL_SHAPE = (items_ohe_df.drop([\"item_id\"], axis=1).shape[1], )\n",
        "USER_META_MODEL_SHAPE = (users_ohe_df.drop([\"user_id\"], axis=1).shape[1], )\n",
        "\n",
        "USER_INTERACTION_MODEL_SHAPE = (interactions_vec.shape[1], )\n",
        "\n",
        "print(f\"N_FACTORS: {N_FACTORS}\")\n",
        "print(f\"ITEM_MODEL_SHAPE: {ITEM_MODEL_SHAPE}\")\n",
        "print(f\"USER_META_MODEL_SHAPE: {USER_META_MODEL_SHAPE}\")\n",
        "print(f\"USER_INTERACTION_MODEL_SHAPE: {USER_INTERACTION_MODEL_SHAPE}\")"
      ]
    },
    {
      "cell_type": "code",
      "execution_count": null,
      "id": "de649a01",
      "metadata": {
        "ExecuteTime": {
          "end_time": "2021-10-28T18:41:16.816499Z",
          "start_time": "2021-10-28T18:41:16.494387Z"
        },
        "id": "de649a01"
      },
      "outputs": [],
      "source": [
        "def item_model(n_factors=N_FACTORS):\n",
        "    inp = keras.layers.Input(shape=ITEM_MODEL_SHAPE)\n",
        "    layer_1 = keras.layers.Dense(N_FACTORS, activation='elu', use_bias=False,\n",
        "                               kernel_regularizer=keras.regularizers.l2(1e-6),\n",
        "                               activity_regularizer=keras.regularizers.l2(l2=1e-6))(inp)\n",
        "    layer_2 = keras.layers.Dense(N_FACTORS, activation='elu', use_bias=False,\n",
        "                             kernel_regularizer=keras.regularizers.l2(1e-6),\n",
        "                             activity_regularizer=keras.regularizers.l2(l2=1e-6))(layer_1)\n",
        "\n",
        "    add = keras.layers.Add()([layer_1, layer_2])\n",
        "    out = keras.layers.Dense(N_FACTORS, activation='linear', use_bias=False,\n",
        "                             kernel_regularizer=keras.regularizers.l2(1e-6),\n",
        "                             activity_regularizer=keras.regularizers.l2(l2=1e-6))(add)\n",
        "\n",
        "    return keras.models.Model(inp, out)\n",
        "\n",
        "\n",
        "def user_model(n_factors=N_FACTORS):\n",
        "    inp_meta = keras.layers.Input(shape=USER_META_MODEL_SHAPE)\n",
        "    inp_interaction = keras.layers.Input(shape=USER_INTERACTION_MODEL_SHAPE)\n",
        "    layer_1_meta = keras.layers.Dense(N_FACTORS, activation='elu', use_bias=False,\n",
        "                                 kernel_regularizer=keras.regularizers.l2(1e-6),\n",
        "                                 activity_regularizer=keras.regularizers.l2(l2=1e-6))(inp_meta)\n",
        "    layer_1_interaction = keras.layers.Dense(N_FACTORS, activation='elu', use_bias=False,\n",
        "                                 kernel_regularizer=keras.regularizers.l2(1e-6),\n",
        "                                 activity_regularizer=keras.regularizers.l2(l2=1e-6))(inp_interaction)\n",
        "    layer_2_meta = keras.layers.Dense(N_FACTORS, activation='elu', use_bias=False,\n",
        "                                 kernel_regularizer=keras.regularizers.l2(1e-6),\n",
        "                                 activity_regularizer=keras.regularizers.l2(l2=1e-6))(layer_1_meta)\n",
        "\n",
        "    add = keras.layers.Add()([layer_1_meta, layer_2_meta])\n",
        "\n",
        "    concat_meta_interaction = keras.layers.Concatenate()([add, layer_1_interaction])\n",
        "\n",
        "    out = keras.layers.Dense(N_FACTORS, activation='linear', use_bias=False,\n",
        "                             kernel_regularizer=keras.regularizers.l2(1e-6),\n",
        "                             activity_regularizer=keras.regularizers.l2(l2=1e-6))(concat_meta_interaction)\n",
        "\n",
        "    return keras.models.Model([inp_meta, inp_interaction], out)\n",
        "\n",
        "i2v = item_model()\n",
        "u2v = user_model()\n",
        "\n",
        "ancor_meta_in = keras.layers.Input(shape=USER_META_MODEL_SHAPE)\n",
        "ancor_interaction_in = keras.layers.Input(shape=USER_INTERACTION_MODEL_SHAPE)\n",
        "\n",
        "pos_in = keras.layers.Input(shape=ITEM_MODEL_SHAPE)\n",
        "neg_in = keras.layers.Input(shape=ITEM_MODEL_SHAPE)\n",
        "\n",
        "ancor = u2v([ancor_meta_in, ancor_interaction_in])\n",
        "pos = i2v(pos_in)\n",
        "neg = i2v(neg_in)\n",
        "\n",
        "res = keras.layers.Concatenate(name=\"concat_ancor_pos_neg\")([ancor, pos, neg])\n",
        "\n",
        "model = keras.models.Model([ancor_meta_in, ancor_interaction_in, pos_in, neg_in], res)"
      ]
    },
    {
      "cell_type": "code",
      "execution_count": null,
      "id": "e912d920",
      "metadata": {
        "ExecuteTime": {
          "end_time": "2021-10-28T18:41:16.822662Z",
          "start_time": "2021-10-28T18:41:16.817857Z"
        },
        "id": "e912d920"
      },
      "outputs": [],
      "source": [
        "model_name = 'recsys_resnet_linear'\n",
        "\n",
        "t_board = keras.callbacks.TensorBoard(log_dir=f'runs/{model_name}')\n",
        "\n",
        "decay = keras.callbacks.ReduceLROnPlateau(monitor='loss', patience=2, factor=0.8, verbose=1)\n",
        "\n",
        "check = keras.callbacks.ModelCheckpoint(filepath=model_name + '/epoch{epoch}-{loss:.2f}.h5', monitor=\"loss\")\n"
      ]
    },
    {
      "cell_type": "code",
      "execution_count": null,
      "id": "f95049f6",
      "metadata": {
        "ExecuteTime": {
          "end_time": "2021-10-28T18:41:16.832365Z",
          "start_time": "2021-10-28T18:41:16.824484Z"
        },
        "colab": {
          "base_uri": "https://localhost:8080/"
        },
        "id": "f95049f6",
        "outputId": "4071ab76-5d0e-4552-e0c4-1300fa453747"
      },
      "outputs": [],
      "source": [
        "opt = keras.optimizers.Adam(lr=0.001)\n",
        "model.compile(loss=triplet_loss, optimizer=opt)"
      ]
    },
    {
      "cell_type": "code",
      "execution_count": null,
      "id": "fb9382d0",
      "metadata": {
        "ExecuteTime": {
          "end_time": "2021-10-28T18:41:16.867472Z",
          "start_time": "2021-10-28T18:41:16.833753Z"
        },
        "colab": {
          "base_uri": "https://localhost:8080/"
        },
        "id": "fb9382d0",
        "outputId": "ab96d07b-60f3-469c-f21f-baa7f6ef929f"
      },
      "outputs": [],
      "source": [
        "\n",
        "item_model().summary()"
      ]
    },
    {
      "cell_type": "code",
      "execution_count": null,
      "id": "286149d1",
      "metadata": {
        "ExecuteTime": {
          "end_time": "2021-10-28T18:41:16.923402Z",
          "start_time": "2021-10-28T18:41:16.868877Z"
        },
        "colab": {
          "base_uri": "https://localhost:8080/"
        },
        "id": "286149d1",
        "outputId": "1eb3196f-e552-415e-956b-fc75633b6e02"
      },
      "outputs": [],
      "source": [
        "user_model().summary()"
      ]
    },
    {
      "cell_type": "code",
      "execution_count": null,
      "id": "d9f25a3f",
      "metadata": {
        "ExecuteTime": {
          "end_time": "2021-10-28T18:41:16.929341Z",
          "start_time": "2021-10-28T18:41:16.924663Z"
        },
        "colab": {
          "base_uri": "https://localhost:8080/"
        },
        "id": "d9f25a3f",
        "outputId": "9edc21f0-e7fc-40c2-daf7-1ecccbae1175"
      },
      "outputs": [],
      "source": [
        "model.summary()"
      ]
    },
    {
      "cell_type": "code",
      "execution_count": null,
      "id": "99d50830",
      "metadata": {
        "ExecuteTime": {
          "end_time": "2021-10-28T19:15:21.657529Z",
          "start_time": "2021-10-28T19:15:16.365923Z"
        },
        "colab": {
          "base_uri": "https://localhost:8080/"
        },
        "id": "99d50830",
        "outputId": "a41fbde2-8062-4e32-eef7-db4f829bac37"
      },
      "outputs": [],
      "source": [
        "model.fit(generator(items=items_ohe_df.drop([\"item_id\"], axis=1),\n",
        "                    users=users_ohe_df.drop([\"user_id\"], axis=1),\n",
        "                    interactions=interactions_vec,\n",
        "                    batch_size=64),\n",
        "          steps_per_epoch=100,\n",
        "          epochs=30,\n",
        "          initial_epoch=0,\n",
        "          callbacks=[decay, t_board, check]\n",
        ")"
      ]
    },
    {
      "cell_type": "code",
      "execution_count": null,
      "id": "94d23f62",
      "metadata": {
        "ExecuteTime": {
          "end_time": "2021-10-28T19:15:26.511958Z",
          "start_time": "2021-10-28T19:15:26.151899Z"
        },
        "colab": {
          "base_uri": "https://localhost:8080/"
        },
        "id": "94d23f62",
        "outputId": "caaa644a-45f6-49bb-adbb-f6afde71276b"
      },
      "outputs": [],
      "source": [
        "rand_uid = np.random.choice(list(users_ohe_df.index))\n",
        "\n",
        "user_meta_feats = users_ohe_df.drop([\"user_id\"], axis=1).iloc[rand_uid]\n",
        "user_interaction_vec = interactions_vec[rand_uid]\n",
        "\n",
        "rand_iid = np.random.choice(list(items_ohe_df.index))\n",
        "item_feats = items_ohe_df.drop([\"item_id\"], axis=1).iloc[rand_iid]\n",
        "\n",
        "user_vec = u2v.predict([np.array(user_meta_feats).reshape(1, -1),\n",
        "                        np.array(user_interaction_vec).reshape(1, -1)])\n",
        "\n",
        "item_vec = i2v.predict(np.array(item_feats).reshape(1, -1))\n",
        "\n",
        "from sklearn.metrics.pairwise import euclidean_distances as ED\n",
        "\n",
        "ED(user_vec, item_vec)"
      ]
    },
    {
      "cell_type": "code",
      "execution_count": null,
      "id": "XasFl6RN0snT",
      "metadata": {
        "colab": {
          "base_uri": "https://localhost:8080/"
        },
        "id": "XasFl6RN0snT",
        "outputId": "431b4660-0c17-411a-e006-c415b7af6797"
      },
      "outputs": [],
      "source": [
        "users_meta_feats = users_ohe_df.drop([\"user_id\"], axis=1)\n",
        "users_interaction_vec = interactions_vec\n",
        "print(users_meta_feats.shape)\n",
        "print(users_interaction_vec.shape)\n",
        "\n",
        "np.array(users_meta_feats).shape"
      ]
    },
    {
      "cell_type": "code",
      "execution_count": null,
      "id": "x16g5FM21XGJ",
      "metadata": {
        "id": "x16g5FM21XGJ"
      },
      "outputs": [],
      "source": [
        "users_vec = u2v.predict([np.array(users_meta_feats),\n",
        "                        np.array(users_interaction_vec)])\n",
        "print(users_vec.shape)\n",
        "print(items_vecs.shape)"
      ]
    },
    {
      "cell_type": "code",
      "execution_count": null,
      "id": "hnUX3Yte2Jcw",
      "metadata": {
        "id": "hnUX3Yte2Jcw"
      },
      "outputs": [],
      "source": [
        "dists = ED(users_vec, items_vecs)\n",
        "\n",
        "print(dists.shape)"
      ]
    },
    {
      "cell_type": "code",
      "execution_count": null,
      "id": "Ru8IQwSV2UrB",
      "metadata": {
        "id": "Ru8IQwSV2UrB"
      },
      "outputs": [],
      "source": [
        "top10_iids = np.argsort(dists, axis=1)[:,:10]\n",
        "\n",
        "print(top10_iids.reshape(dists.shape[0], 10).shape)\n",
        "print(top10_iids.shape)\n",
        "\n",
        "top10_iids"
      ]
    },
    {
      "cell_type": "code",
      "execution_count": null,
      "id": "srptkYsFsk1V",
      "metadata": {
        "id": "srptkYsFsk1V"
      },
      "outputs": [],
      "source": [
        "top10_iids_item = [iid_to_item_id[iid] for iid in top10_iids.reshape(-1)]\n",
        "top10_iids_item = np.array(top10_iids_item).reshape(top10_iids.shape)\n",
        "print(top10_iids_item.shape)"
      ]
    },
    {
      "cell_type": "code",
      "execution_count": null,
      "id": "z6ussvRSth2h",
      "metadata": {
        "id": "z6ussvRSth2h"
      },
      "outputs": [],
      "source": [
        "df_dssm = pd.DataFrame(columns = ['user_id', 'item_id'])\n",
        "df_dssm = pd.DataFrame({'user_id': [uid_to_user_id[uid] for uid in np.arange(top10_iids_item.shape[0])]})\n",
        "df_dssm['item_id'] = list(top10_iids_item)\n",
        "df_dssm = df_dssm.explode('item_id')\n",
        "df_dssm['rank'] = df_dssm.groupby('user_id').cumcount() + 1\n",
        "df_dssm = df_dssm.groupby('user_id').agg({'item_id': list}).reset_index()\n",
        "\n",
        "df_dssm"
      ]
    },
    {
      "cell_type": "code",
      "execution_count": null,
      "id": "fJuR88ZEd1Sc",
      "metadata": {
        "id": "fJuR88ZEd1Sc"
      },
      "outputs": [],
      "source": [
        "df_dssm.to_csv('dssm_recos.csv')"
      ]
    }
  ],
  "metadata": {
    "colab": {
      "collapsed_sections": [
        "fcdd65bb"
      ],
      "provenance": []
    },
    "kernelspec": {
      "display_name": "Python 3.10.5 ('.venv': poetry)",
      "language": "python",
      "name": "python3"
    },
    "language_info": {
      "codemirror_mode": {
        "name": "ipython",
        "version": 3
      },
      "file_extension": ".py",
      "mimetype": "text/x-python",
      "name": "python",
      "nbconvert_exporter": "python",
      "pygments_lexer": "ipython3",
      "version": "3.10.5"
    },
    "vscode": {
      "interpreter": {
        "hash": "67b535036947e74c085a4aadcefc9f79258af3bc3b204eef7c6c9c0865dc5f6e"
      }
    }
  },
  "nbformat": 4,
  "nbformat_minor": 5
}
